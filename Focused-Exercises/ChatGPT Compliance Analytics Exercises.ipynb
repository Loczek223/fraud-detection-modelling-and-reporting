{
 "cells": [
  {
   "cell_type": "markdown",
   "id": "b0935079-2a71-4a0c-88c2-f647845fc084",
   "metadata": {},
   "source": [
    "# ChatGPT Exercises"
   ]
  },
  {
   "cell_type": "markdown",
   "id": "cda41239-bddf-4825-bbdb-7d965dd15155",
   "metadata": {},
   "source": [
    "### Exercise 1: Fraud Detection — Flag High-Risk Transactions\n",
    "\n",
    "Instruction:\n",
    "\n",
    "Given transaction data, identify transactions above $10,000 from new customers (less than 90 days since account opening).\n",
    "\n",
    "Sample Data:"
   ]
  },
  {
   "cell_type": "code",
   "execution_count": 18,
   "id": "bcb4fb58-2dac-4a23-86e1-1806fd321736",
   "metadata": {},
   "outputs": [],
   "source": [
    "import pandas as pd\n",
    "from datetime import datetime\n",
    "\n",
    "data = {\n",
    "    \"transaction_id\": [1, 2, 3, 4, 5],\n",
    "    \"customer_id\": [\"C1\", \"C2\", \"C3\", \"C4\", \"C5\"],\n",
    "    \"transaction_amount\": [500, 15000, 20000, 300, 12000],\n",
    "    \"account_open_date\": [\n",
    "        \"2023-06-01\", \"2024-08-01\", \"2024-07-15\", \"2022-01-10\", \"2024-09-01\"\n",
    "    ],\n",
    "    \"transaction_date\": [\n",
    "        \"2024-09-01\", \"2024-09-01\", \"2024-09-01\", \"2024-09-01\", \"2024-09-01\"\n",
    "    ]\n",
    "}\n",
    "df = pd.DataFrame(data)\n",
    "df[\"account_open_date\"] = pd.to_datetime(df[\"account_open_date\"])\n",
    "df[\"transaction_date\"] = pd.to_datetime(df[\"transaction_date\"])"
   ]
  },
  {
   "cell_type": "code",
   "execution_count": 3,
   "id": "fff5f1d2-8dda-49ad-901d-084ea8ae2e21",
   "metadata": {},
   "outputs": [
    {
     "data": {
      "text/html": [
       "<div>\n",
       "<style scoped>\n",
       "    .dataframe tbody tr th:only-of-type {\n",
       "        vertical-align: middle;\n",
       "    }\n",
       "\n",
       "    .dataframe tbody tr th {\n",
       "        vertical-align: top;\n",
       "    }\n",
       "\n",
       "    .dataframe thead th {\n",
       "        text-align: right;\n",
       "    }\n",
       "</style>\n",
       "<table border=\"1\" class=\"dataframe\">\n",
       "  <thead>\n",
       "    <tr style=\"text-align: right;\">\n",
       "      <th></th>\n",
       "      <th>transaction_id</th>\n",
       "      <th>customer_id</th>\n",
       "      <th>transaction_amount</th>\n",
       "      <th>account_open_date</th>\n",
       "      <th>transaction_date</th>\n",
       "    </tr>\n",
       "  </thead>\n",
       "  <tbody>\n",
       "    <tr>\n",
       "      <th>0</th>\n",
       "      <td>1</td>\n",
       "      <td>C1</td>\n",
       "      <td>500</td>\n",
       "      <td>2023-06-01</td>\n",
       "      <td>2024-09-01</td>\n",
       "    </tr>\n",
       "    <tr>\n",
       "      <th>1</th>\n",
       "      <td>2</td>\n",
       "      <td>C2</td>\n",
       "      <td>15000</td>\n",
       "      <td>2024-08-01</td>\n",
       "      <td>2024-09-01</td>\n",
       "    </tr>\n",
       "    <tr>\n",
       "      <th>2</th>\n",
       "      <td>3</td>\n",
       "      <td>C3</td>\n",
       "      <td>20000</td>\n",
       "      <td>2024-07-15</td>\n",
       "      <td>2024-09-01</td>\n",
       "    </tr>\n",
       "    <tr>\n",
       "      <th>3</th>\n",
       "      <td>4</td>\n",
       "      <td>C4</td>\n",
       "      <td>300</td>\n",
       "      <td>2022-01-10</td>\n",
       "      <td>2024-09-01</td>\n",
       "    </tr>\n",
       "    <tr>\n",
       "      <th>4</th>\n",
       "      <td>5</td>\n",
       "      <td>C5</td>\n",
       "      <td>12000</td>\n",
       "      <td>2024-09-01</td>\n",
       "      <td>2024-09-01</td>\n",
       "    </tr>\n",
       "  </tbody>\n",
       "</table>\n",
       "</div>"
      ],
      "text/plain": [
       "   transaction_id customer_id  transaction_amount account_open_date  \\\n",
       "0               1          C1                 500        2023-06-01   \n",
       "1               2          C2               15000        2024-08-01   \n",
       "2               3          C3               20000        2024-07-15   \n",
       "3               4          C4                 300        2022-01-10   \n",
       "4               5          C5               12000        2024-09-01   \n",
       "\n",
       "  transaction_date  \n",
       "0       2024-09-01  \n",
       "1       2024-09-01  \n",
       "2       2024-09-01  \n",
       "3       2024-09-01  \n",
       "4       2024-09-01  "
      ]
     },
     "execution_count": 3,
     "metadata": {},
     "output_type": "execute_result"
    }
   ],
   "source": [
    "df"
   ]
  },
  {
   "cell_type": "code",
   "execution_count": 11,
   "id": "0eb2ca35-9520-4ab4-81f2-c20b01e48414",
   "metadata": {
    "scrolled": true
   },
   "outputs": [
    {
     "data": {
      "text/html": [
       "<div>\n",
       "<style scoped>\n",
       "    .dataframe tbody tr th:only-of-type {\n",
       "        vertical-align: middle;\n",
       "    }\n",
       "\n",
       "    .dataframe tbody tr th {\n",
       "        vertical-align: top;\n",
       "    }\n",
       "\n",
       "    .dataframe thead th {\n",
       "        text-align: right;\n",
       "    }\n",
       "</style>\n",
       "<table border=\"1\" class=\"dataframe\">\n",
       "  <thead>\n",
       "    <tr style=\"text-align: right;\">\n",
       "      <th></th>\n",
       "      <th>transaction_id</th>\n",
       "      <th>customer_id</th>\n",
       "      <th>transaction_amount</th>\n",
       "      <th>account_open_date</th>\n",
       "      <th>transaction_date</th>\n",
       "    </tr>\n",
       "  </thead>\n",
       "  <tbody>\n",
       "    <tr>\n",
       "      <th>1</th>\n",
       "      <td>2</td>\n",
       "      <td>C2</td>\n",
       "      <td>15000</td>\n",
       "      <td>2024-08-01</td>\n",
       "      <td>2024-09-01</td>\n",
       "    </tr>\n",
       "    <tr>\n",
       "      <th>2</th>\n",
       "      <td>3</td>\n",
       "      <td>C3</td>\n",
       "      <td>20000</td>\n",
       "      <td>2024-07-15</td>\n",
       "      <td>2024-09-01</td>\n",
       "    </tr>\n",
       "    <tr>\n",
       "      <th>4</th>\n",
       "      <td>5</td>\n",
       "      <td>C5</td>\n",
       "      <td>12000</td>\n",
       "      <td>2024-09-01</td>\n",
       "      <td>2024-09-01</td>\n",
       "    </tr>\n",
       "  </tbody>\n",
       "</table>\n",
       "</div>"
      ],
      "text/plain": [
       "   transaction_id customer_id  transaction_amount account_open_date  \\\n",
       "1               2          C2               15000        2024-08-01   \n",
       "2               3          C3               20000        2024-07-15   \n",
       "4               5          C5               12000        2024-09-01   \n",
       "\n",
       "  transaction_date  \n",
       "1       2024-09-01  \n",
       "2       2024-09-01  \n",
       "4       2024-09-01  "
      ]
     },
     "execution_count": 11,
     "metadata": {},
     "output_type": "execute_result"
    }
   ],
   "source": [
    "df[((df['transaction_date'] - df['account_open_date']).dt.days < 90) & (df['transaction_amount'] > 10_000)]"
   ]
  },
  {
   "cell_type": "markdown",
   "id": "a2b6c812-4937-4c17-a67b-46d0a610fee5",
   "metadata": {},
   "source": [
    "Exercise 1 solution"
   ]
  },
  {
   "cell_type": "code",
   "execution_count": 19,
   "id": "1def91d1-9038-4fff-8c40-cde14934a00f",
   "metadata": {},
   "outputs": [
    {
     "data": {
      "text/html": [
       "<div>\n",
       "<style scoped>\n",
       "    .dataframe tbody tr th:only-of-type {\n",
       "        vertical-align: middle;\n",
       "    }\n",
       "\n",
       "    .dataframe tbody tr th {\n",
       "        vertical-align: top;\n",
       "    }\n",
       "\n",
       "    .dataframe thead th {\n",
       "        text-align: right;\n",
       "    }\n",
       "</style>\n",
       "<table border=\"1\" class=\"dataframe\">\n",
       "  <thead>\n",
       "    <tr style=\"text-align: right;\">\n",
       "      <th></th>\n",
       "      <th>transaction_id</th>\n",
       "      <th>customer_id</th>\n",
       "      <th>transaction_amount</th>\n",
       "      <th>account_open_date</th>\n",
       "      <th>transaction_date</th>\n",
       "      <th>days_active</th>\n",
       "    </tr>\n",
       "  </thead>\n",
       "  <tbody>\n",
       "    <tr>\n",
       "      <th>1</th>\n",
       "      <td>2</td>\n",
       "      <td>C2</td>\n",
       "      <td>15000</td>\n",
       "      <td>2024-08-01</td>\n",
       "      <td>2024-09-01</td>\n",
       "      <td>31</td>\n",
       "    </tr>\n",
       "    <tr>\n",
       "      <th>2</th>\n",
       "      <td>3</td>\n",
       "      <td>C3</td>\n",
       "      <td>20000</td>\n",
       "      <td>2024-07-15</td>\n",
       "      <td>2024-09-01</td>\n",
       "      <td>48</td>\n",
       "    </tr>\n",
       "    <tr>\n",
       "      <th>4</th>\n",
       "      <td>5</td>\n",
       "      <td>C5</td>\n",
       "      <td>12000</td>\n",
       "      <td>2024-09-01</td>\n",
       "      <td>2024-09-01</td>\n",
       "      <td>0</td>\n",
       "    </tr>\n",
       "  </tbody>\n",
       "</table>\n",
       "</div>"
      ],
      "text/plain": [
       "   transaction_id customer_id  transaction_amount account_open_date  \\\n",
       "1               2          C2               15000        2024-08-01   \n",
       "2               3          C3               20000        2024-07-15   \n",
       "4               5          C5               12000        2024-09-01   \n",
       "\n",
       "  transaction_date  days_active  \n",
       "1       2024-09-01           31  \n",
       "2       2024-09-01           48  \n",
       "4       2024-09-01            0  "
      ]
     },
     "execution_count": 19,
     "metadata": {},
     "output_type": "execute_result"
    }
   ],
   "source": [
    "df[\"days_active\"] = (df[\"transaction_date\"] - df[\"account_open_date\"]).dt.days\n",
    "suspicious = df[(df[\"transaction_amount\"] > 10000) & (df[\"days_active\"] < 90)]\n",
    "suspicious"
   ]
  },
  {
   "cell_type": "markdown",
   "id": "57d0bcf6-a5a2-43ab-9c0c-35b553d5e9e4",
   "metadata": {},
   "source": [
    "### Exercise 2: AML — Count Transactions by Country\n",
    "\n",
    "Instruction:\n",
    "\n",
    "Group transactions by country and calculate the number of transactions and total transaction value.\n",
    "\n",
    "Sample Data:"
   ]
  },
  {
   "cell_type": "code",
   "execution_count": 21,
   "id": "ab5a92cf-aa1a-4605-b336-914872c55a05",
   "metadata": {},
   "outputs": [],
   "source": [
    "data = {\n",
    "    \"transaction_id\": [101, 102, 103, 104, 105, 106],\n",
    "    \"country\": [\"US\", \"US\", \"UK\", \"CN\", \"CN\", \"UK\"],\n",
    "    \"amount\": [2000, 5000, 3000, 7000, 15000, 8000]\n",
    "}\n",
    "df = pd.DataFrame(data)"
   ]
  },
  {
   "cell_type": "code",
   "execution_count": 13,
   "id": "12d7e9a9-e6f6-491c-9a2e-c2b996026c85",
   "metadata": {},
   "outputs": [
    {
     "data": {
      "text/html": [
       "<div>\n",
       "<style scoped>\n",
       "    .dataframe tbody tr th:only-of-type {\n",
       "        vertical-align: middle;\n",
       "    }\n",
       "\n",
       "    .dataframe tbody tr th {\n",
       "        vertical-align: top;\n",
       "    }\n",
       "\n",
       "    .dataframe thead th {\n",
       "        text-align: right;\n",
       "    }\n",
       "</style>\n",
       "<table border=\"1\" class=\"dataframe\">\n",
       "  <thead>\n",
       "    <tr style=\"text-align: right;\">\n",
       "      <th></th>\n",
       "      <th>transaction_id</th>\n",
       "      <th>country</th>\n",
       "      <th>amount</th>\n",
       "    </tr>\n",
       "  </thead>\n",
       "  <tbody>\n",
       "    <tr>\n",
       "      <th>0</th>\n",
       "      <td>101</td>\n",
       "      <td>US</td>\n",
       "      <td>2000</td>\n",
       "    </tr>\n",
       "    <tr>\n",
       "      <th>1</th>\n",
       "      <td>102</td>\n",
       "      <td>US</td>\n",
       "      <td>5000</td>\n",
       "    </tr>\n",
       "    <tr>\n",
       "      <th>2</th>\n",
       "      <td>103</td>\n",
       "      <td>UK</td>\n",
       "      <td>3000</td>\n",
       "    </tr>\n",
       "    <tr>\n",
       "      <th>3</th>\n",
       "      <td>104</td>\n",
       "      <td>CN</td>\n",
       "      <td>7000</td>\n",
       "    </tr>\n",
       "    <tr>\n",
       "      <th>4</th>\n",
       "      <td>105</td>\n",
       "      <td>CN</td>\n",
       "      <td>15000</td>\n",
       "    </tr>\n",
       "    <tr>\n",
       "      <th>5</th>\n",
       "      <td>106</td>\n",
       "      <td>UK</td>\n",
       "      <td>8000</td>\n",
       "    </tr>\n",
       "  </tbody>\n",
       "</table>\n",
       "</div>"
      ],
      "text/plain": [
       "   transaction_id country  amount\n",
       "0             101      US    2000\n",
       "1             102      US    5000\n",
       "2             103      UK    3000\n",
       "3             104      CN    7000\n",
       "4             105      CN   15000\n",
       "5             106      UK    8000"
      ]
     },
     "execution_count": 13,
     "metadata": {},
     "output_type": "execute_result"
    }
   ],
   "source": [
    "df"
   ]
  },
  {
   "cell_type": "code",
   "execution_count": 15,
   "id": "b35563cc-c6d8-4f12-abe8-87e0f7322f6a",
   "metadata": {},
   "outputs": [
    {
     "data": {
      "text/plain": [
       "country\n",
       "CN    2\n",
       "UK    2\n",
       "US    2\n",
       "Name: transaction_id, dtype: int64"
      ]
     },
     "execution_count": 15,
     "metadata": {},
     "output_type": "execute_result"
    }
   ],
   "source": [
    "countrycount = df['transaction_id'].groupby(df['country']).count()\n",
    "countrycount"
   ]
  },
  {
   "cell_type": "code",
   "execution_count": 16,
   "id": "0dc67792-7516-419a-832b-4270579e407d",
   "metadata": {},
   "outputs": [
    {
     "data": {
      "text/plain": [
       "country\n",
       "CN    22000\n",
       "UK    11000\n",
       "US     7000\n",
       "Name: amount, dtype: int64"
      ]
     },
     "execution_count": 16,
     "metadata": {},
     "output_type": "execute_result"
    }
   ],
   "source": [
    "countrycount = df['amount'].groupby(df['country']).sum()\n",
    "countrycount"
   ]
  },
  {
   "cell_type": "markdown",
   "id": "08f67df0-9b78-4b27-bf42-fd0a5e5bf9c4",
   "metadata": {},
   "source": [
    "Exercise 2 solution"
   ]
  },
  {
   "cell_type": "code",
   "execution_count": 22,
   "id": "c3148f7a-5efa-4838-a162-7e3cf9527e00",
   "metadata": {},
   "outputs": [
    {
     "data": {
      "text/html": [
       "<div>\n",
       "<style scoped>\n",
       "    .dataframe tbody tr th:only-of-type {\n",
       "        vertical-align: middle;\n",
       "    }\n",
       "\n",
       "    .dataframe tbody tr th {\n",
       "        vertical-align: top;\n",
       "    }\n",
       "\n",
       "    .dataframe thead th {\n",
       "        text-align: right;\n",
       "    }\n",
       "</style>\n",
       "<table border=\"1\" class=\"dataframe\">\n",
       "  <thead>\n",
       "    <tr style=\"text-align: right;\">\n",
       "      <th></th>\n",
       "      <th>country</th>\n",
       "      <th>transaction_count</th>\n",
       "      <th>total_value</th>\n",
       "    </tr>\n",
       "  </thead>\n",
       "  <tbody>\n",
       "    <tr>\n",
       "      <th>0</th>\n",
       "      <td>CN</td>\n",
       "      <td>2</td>\n",
       "      <td>22000</td>\n",
       "    </tr>\n",
       "    <tr>\n",
       "      <th>1</th>\n",
       "      <td>UK</td>\n",
       "      <td>2</td>\n",
       "      <td>11000</td>\n",
       "    </tr>\n",
       "    <tr>\n",
       "      <th>2</th>\n",
       "      <td>US</td>\n",
       "      <td>2</td>\n",
       "      <td>7000</td>\n",
       "    </tr>\n",
       "  </tbody>\n",
       "</table>\n",
       "</div>"
      ],
      "text/plain": [
       "  country  transaction_count  total_value\n",
       "0      CN                  2        22000\n",
       "1      UK                  2        11000\n",
       "2      US                  2         7000"
      ]
     },
     "execution_count": 22,
     "metadata": {},
     "output_type": "execute_result"
    }
   ],
   "source": [
    "# review groupby with agg() function\n",
    "country_summary = df.groupby(\"country\").agg(\n",
    "    transaction_count=(\"transaction_id\", \"count\"),\n",
    "    total_value=(\"amount\", \"sum\")\n",
    ").reset_index()\n",
    "country_summary"
   ]
  },
  {
   "cell_type": "markdown",
   "id": "269d4845-17f4-483d-8802-7fb95e14721a",
   "metadata": {},
   "source": [
    "### Exercise 3: Tax Evasion — Detect Under-Reported Income\n",
    "\n",
    "Instruction:\n",
    "\n",
    "Compare declared income vs. actual income (derived from bank transactions) and flag customers underreporting by more than 20%."
   ]
  },
  {
   "cell_type": "code",
   "execution_count": 23,
   "id": "f203673c-04c5-4a88-b194-fa58aefc3c74",
   "metadata": {},
   "outputs": [],
   "source": [
    "data = {\n",
    "    \"customer_id\": [\"C1\", \"C2\", \"C3\", \"C4\"],\n",
    "    \"declared_income\": [50000, 40000, 60000, 70000],\n",
    "    \"bank_income\": [60000, 45000, 80000, 65000]\n",
    "}\n",
    "df = pd.DataFrame(data)\n"
   ]
  },
  {
   "cell_type": "code",
   "execution_count": 24,
   "id": "b48f0f9d-42c6-479a-bbe9-041f9ca8d9fb",
   "metadata": {},
   "outputs": [
    {
     "data": {
      "text/html": [
       "<div>\n",
       "<style scoped>\n",
       "    .dataframe tbody tr th:only-of-type {\n",
       "        vertical-align: middle;\n",
       "    }\n",
       "\n",
       "    .dataframe tbody tr th {\n",
       "        vertical-align: top;\n",
       "    }\n",
       "\n",
       "    .dataframe thead th {\n",
       "        text-align: right;\n",
       "    }\n",
       "</style>\n",
       "<table border=\"1\" class=\"dataframe\">\n",
       "  <thead>\n",
       "    <tr style=\"text-align: right;\">\n",
       "      <th></th>\n",
       "      <th>customer_id</th>\n",
       "      <th>declared_income</th>\n",
       "      <th>bank_income</th>\n",
       "    </tr>\n",
       "  </thead>\n",
       "  <tbody>\n",
       "    <tr>\n",
       "      <th>0</th>\n",
       "      <td>C1</td>\n",
       "      <td>50000</td>\n",
       "      <td>60000</td>\n",
       "    </tr>\n",
       "    <tr>\n",
       "      <th>1</th>\n",
       "      <td>C2</td>\n",
       "      <td>40000</td>\n",
       "      <td>45000</td>\n",
       "    </tr>\n",
       "    <tr>\n",
       "      <th>2</th>\n",
       "      <td>C3</td>\n",
       "      <td>60000</td>\n",
       "      <td>80000</td>\n",
       "    </tr>\n",
       "    <tr>\n",
       "      <th>3</th>\n",
       "      <td>C4</td>\n",
       "      <td>70000</td>\n",
       "      <td>65000</td>\n",
       "    </tr>\n",
       "  </tbody>\n",
       "</table>\n",
       "</div>"
      ],
      "text/plain": [
       "  customer_id  declared_income  bank_income\n",
       "0          C1            50000        60000\n",
       "1          C2            40000        45000\n",
       "2          C3            60000        80000\n",
       "3          C4            70000        65000"
      ]
     },
     "execution_count": 24,
     "metadata": {},
     "output_type": "execute_result"
    }
   ],
   "source": [
    "df"
   ]
  },
  {
   "cell_type": "code",
   "execution_count": 47,
   "id": "78ea0ac9-b019-47e3-b6a4-bedfe8a8210d",
   "metadata": {
    "scrolled": true
   },
   "outputs": [
    {
     "data": {
      "text/html": [
       "<div>\n",
       "<style scoped>\n",
       "    .dataframe tbody tr th:only-of-type {\n",
       "        vertical-align: middle;\n",
       "    }\n",
       "\n",
       "    .dataframe tbody tr th {\n",
       "        vertical-align: top;\n",
       "    }\n",
       "\n",
       "    .dataframe thead th {\n",
       "        text-align: right;\n",
       "    }\n",
       "</style>\n",
       "<table border=\"1\" class=\"dataframe\">\n",
       "  <thead>\n",
       "    <tr style=\"text-align: right;\">\n",
       "      <th></th>\n",
       "      <th>customer_id</th>\n",
       "      <th>declared_income</th>\n",
       "      <th>bank_income</th>\n",
       "      <th>difference</th>\n",
       "      <th>ratio</th>\n",
       "      <th>underreporting_ratio</th>\n",
       "    </tr>\n",
       "  </thead>\n",
       "  <tbody>\n",
       "    <tr>\n",
       "      <th>0</th>\n",
       "      <td>C1</td>\n",
       "      <td>50000</td>\n",
       "      <td>60000</td>\n",
       "      <td>-10000</td>\n",
       "      <td>0.166667</td>\n",
       "      <td>0.166667</td>\n",
       "    </tr>\n",
       "    <tr>\n",
       "      <th>1</th>\n",
       "      <td>C2</td>\n",
       "      <td>40000</td>\n",
       "      <td>45000</td>\n",
       "      <td>-5000</td>\n",
       "      <td>0.111111</td>\n",
       "      <td>0.111111</td>\n",
       "    </tr>\n",
       "    <tr>\n",
       "      <th>2</th>\n",
       "      <td>C3</td>\n",
       "      <td>60000</td>\n",
       "      <td>80000</td>\n",
       "      <td>-20000</td>\n",
       "      <td>0.250000</td>\n",
       "      <td>0.250000</td>\n",
       "    </tr>\n",
       "    <tr>\n",
       "      <th>3</th>\n",
       "      <td>C4</td>\n",
       "      <td>70000</td>\n",
       "      <td>65000</td>\n",
       "      <td>5000</td>\n",
       "      <td>-0.076923</td>\n",
       "      <td>-0.076923</td>\n",
       "    </tr>\n",
       "  </tbody>\n",
       "</table>\n",
       "</div>"
      ],
      "text/plain": [
       "  customer_id  declared_income  bank_income  difference     ratio  \\\n",
       "0          C1            50000        60000      -10000  0.166667   \n",
       "1          C2            40000        45000       -5000  0.111111   \n",
       "2          C3            60000        80000      -20000  0.250000   \n",
       "3          C4            70000        65000        5000 -0.076923   \n",
       "\n",
       "   underreporting_ratio  \n",
       "0              0.166667  \n",
       "1              0.111111  \n",
       "2              0.250000  \n",
       "3             -0.076923  "
      ]
     },
     "execution_count": 47,
     "metadata": {},
     "output_type": "execute_result"
    }
   ],
   "source": [
    "df['ratio'] = (df['bank_income'] - df['declared_income']) / df['bank_income']\n",
    "df"
   ]
  },
  {
   "cell_type": "code",
   "execution_count": 48,
   "id": "d0e8f8c5-5c99-434c-8323-1aa51285a18e",
   "metadata": {},
   "outputs": [
    {
     "data": {
      "text/html": [
       "<div>\n",
       "<style scoped>\n",
       "    .dataframe tbody tr th:only-of-type {\n",
       "        vertical-align: middle;\n",
       "    }\n",
       "\n",
       "    .dataframe tbody tr th {\n",
       "        vertical-align: top;\n",
       "    }\n",
       "\n",
       "    .dataframe thead th {\n",
       "        text-align: right;\n",
       "    }\n",
       "</style>\n",
       "<table border=\"1\" class=\"dataframe\">\n",
       "  <thead>\n",
       "    <tr style=\"text-align: right;\">\n",
       "      <th></th>\n",
       "      <th>customer_id</th>\n",
       "      <th>declared_income</th>\n",
       "      <th>bank_income</th>\n",
       "      <th>difference</th>\n",
       "      <th>ratio</th>\n",
       "      <th>underreporting_ratio</th>\n",
       "    </tr>\n",
       "  </thead>\n",
       "  <tbody>\n",
       "    <tr>\n",
       "      <th>2</th>\n",
       "      <td>C3</td>\n",
       "      <td>60000</td>\n",
       "      <td>80000</td>\n",
       "      <td>-20000</td>\n",
       "      <td>0.25</td>\n",
       "      <td>0.25</td>\n",
       "    </tr>\n",
       "  </tbody>\n",
       "</table>\n",
       "</div>"
      ],
      "text/plain": [
       "  customer_id  declared_income  bank_income  difference  ratio  \\\n",
       "2          C3            60000        80000      -20000   0.25   \n",
       "\n",
       "   underreporting_ratio  \n",
       "2                  0.25  "
      ]
     },
     "execution_count": 48,
     "metadata": {},
     "output_type": "execute_result"
    }
   ],
   "source": [
    "flag = df[df['ratio'] > 0.2]\n",
    "flag"
   ]
  },
  {
   "cell_type": "markdown",
   "id": "610a6041-fa57-4c45-bf28-4c3e273198c2",
   "metadata": {},
   "source": [
    "Exercise 3 solution"
   ]
  },
  {
   "cell_type": "code",
   "execution_count": 41,
   "id": "472602fe-7787-47ee-88d1-d6c3911608ed",
   "metadata": {},
   "outputs": [
    {
     "data": {
      "text/html": [
       "<div>\n",
       "<style scoped>\n",
       "    .dataframe tbody tr th:only-of-type {\n",
       "        vertical-align: middle;\n",
       "    }\n",
       "\n",
       "    .dataframe tbody tr th {\n",
       "        vertical-align: top;\n",
       "    }\n",
       "\n",
       "    .dataframe thead th {\n",
       "        text-align: right;\n",
       "    }\n",
       "</style>\n",
       "<table border=\"1\" class=\"dataframe\">\n",
       "  <thead>\n",
       "    <tr style=\"text-align: right;\">\n",
       "      <th></th>\n",
       "      <th>customer_id</th>\n",
       "      <th>declared_income</th>\n",
       "      <th>bank_income</th>\n",
       "      <th>difference</th>\n",
       "      <th>ratio</th>\n",
       "      <th>underreporting_ratio</th>\n",
       "    </tr>\n",
       "  </thead>\n",
       "  <tbody>\n",
       "    <tr>\n",
       "      <th>2</th>\n",
       "      <td>C3</td>\n",
       "      <td>60000</td>\n",
       "      <td>80000</td>\n",
       "      <td>-20000</td>\n",
       "      <td>59999.0</td>\n",
       "      <td>0.25</td>\n",
       "    </tr>\n",
       "  </tbody>\n",
       "</table>\n",
       "</div>"
      ],
      "text/plain": [
       "  customer_id  declared_income  bank_income  difference    ratio  \\\n",
       "2          C3            60000        80000      -20000  59999.0   \n",
       "\n",
       "   underreporting_ratio  \n",
       "2                  0.25  "
      ]
     },
     "execution_count": 41,
     "metadata": {},
     "output_type": "execute_result"
    }
   ],
   "source": [
    "df[\"underreporting_ratio\"] = (df[\"bank_income\"] - df[\"declared_income\"]) / df[\"bank_income\"]\n",
    "suspicious = df[df[\"underreporting_ratio\"] > 0.2]\n",
    "suspicious"
   ]
  },
  {
   "cell_type": "markdown",
   "id": "ed0daf49-d2b6-43b4-859e-9f7b294a11d1",
   "metadata": {},
   "source": [
    "### Exercise 4: Export Control — Sanctions Screening\n",
    "\n",
    "Instruction:\n",
    "\n",
    "Check if any counterparties appear on a sanctions list.\n",
    "\n",
    "Sample Data:"
   ]
  },
  {
   "cell_type": "code",
   "execution_count": 49,
   "id": "fabad0f9-9c73-4bea-93c9-602fa0458c8e",
   "metadata": {},
   "outputs": [],
   "source": [
    "transactions = pd.DataFrame({\n",
    "    \"transaction_id\": [201, 202, 203, 204],\n",
    "    \"counterparty\": [\"ABC Corp\", \"XYZ Ltd\", \"Iran Trading\", \"Global Inc\"]\n",
    "})\n",
    "\n",
    "sanctions_list = pd.DataFrame({\n",
    "    \"entity\": [\"Iran Trading\", \"North Korea Exports\"]\n",
    "})"
   ]
  },
  {
   "cell_type": "code",
   "execution_count": 50,
   "id": "6d1867fa-5928-4b6b-876f-12563a3caeff",
   "metadata": {},
   "outputs": [
    {
     "data": {
      "text/html": [
       "<div>\n",
       "<style scoped>\n",
       "    .dataframe tbody tr th:only-of-type {\n",
       "        vertical-align: middle;\n",
       "    }\n",
       "\n",
       "    .dataframe tbody tr th {\n",
       "        vertical-align: top;\n",
       "    }\n",
       "\n",
       "    .dataframe thead th {\n",
       "        text-align: right;\n",
       "    }\n",
       "</style>\n",
       "<table border=\"1\" class=\"dataframe\">\n",
       "  <thead>\n",
       "    <tr style=\"text-align: right;\">\n",
       "      <th></th>\n",
       "      <th>transaction_id</th>\n",
       "      <th>counterparty</th>\n",
       "    </tr>\n",
       "  </thead>\n",
       "  <tbody>\n",
       "    <tr>\n",
       "      <th>0</th>\n",
       "      <td>201</td>\n",
       "      <td>ABC Corp</td>\n",
       "    </tr>\n",
       "    <tr>\n",
       "      <th>1</th>\n",
       "      <td>202</td>\n",
       "      <td>XYZ Ltd</td>\n",
       "    </tr>\n",
       "    <tr>\n",
       "      <th>2</th>\n",
       "      <td>203</td>\n",
       "      <td>Iran Trading</td>\n",
       "    </tr>\n",
       "    <tr>\n",
       "      <th>3</th>\n",
       "      <td>204</td>\n",
       "      <td>Global Inc</td>\n",
       "    </tr>\n",
       "  </tbody>\n",
       "</table>\n",
       "</div>"
      ],
      "text/plain": [
       "   transaction_id  counterparty\n",
       "0             201      ABC Corp\n",
       "1             202       XYZ Ltd\n",
       "2             203  Iran Trading\n",
       "3             204    Global Inc"
      ]
     },
     "execution_count": 50,
     "metadata": {},
     "output_type": "execute_result"
    }
   ],
   "source": [
    "transactions"
   ]
  },
  {
   "cell_type": "code",
   "execution_count": 51,
   "id": "a9cd261e-3e83-4b3f-8291-6c6bace8d891",
   "metadata": {},
   "outputs": [
    {
     "data": {
      "text/html": [
       "<div>\n",
       "<style scoped>\n",
       "    .dataframe tbody tr th:only-of-type {\n",
       "        vertical-align: middle;\n",
       "    }\n",
       "\n",
       "    .dataframe tbody tr th {\n",
       "        vertical-align: top;\n",
       "    }\n",
       "\n",
       "    .dataframe thead th {\n",
       "        text-align: right;\n",
       "    }\n",
       "</style>\n",
       "<table border=\"1\" class=\"dataframe\">\n",
       "  <thead>\n",
       "    <tr style=\"text-align: right;\">\n",
       "      <th></th>\n",
       "      <th>entity</th>\n",
       "    </tr>\n",
       "  </thead>\n",
       "  <tbody>\n",
       "    <tr>\n",
       "      <th>0</th>\n",
       "      <td>Iran Trading</td>\n",
       "    </tr>\n",
       "    <tr>\n",
       "      <th>1</th>\n",
       "      <td>North Korea Exports</td>\n",
       "    </tr>\n",
       "  </tbody>\n",
       "</table>\n",
       "</div>"
      ],
      "text/plain": [
       "                entity\n",
       "0         Iran Trading\n",
       "1  North Korea Exports"
      ]
     },
     "execution_count": 51,
     "metadata": {},
     "output_type": "execute_result"
    }
   ],
   "source": [
    "sanctions_list"
   ]
  },
  {
   "cell_type": "code",
   "execution_count": 53,
   "id": "e3c64963-4868-4b05-9744-f9f0bbb63f2d",
   "metadata": {},
   "outputs": [
    {
     "data": {
      "text/html": [
       "<div>\n",
       "<style scoped>\n",
       "    .dataframe tbody tr th:only-of-type {\n",
       "        vertical-align: middle;\n",
       "    }\n",
       "\n",
       "    .dataframe tbody tr th {\n",
       "        vertical-align: top;\n",
       "    }\n",
       "\n",
       "    .dataframe thead th {\n",
       "        text-align: right;\n",
       "    }\n",
       "</style>\n",
       "<table border=\"1\" class=\"dataframe\">\n",
       "  <thead>\n",
       "    <tr style=\"text-align: right;\">\n",
       "      <th></th>\n",
       "      <th>transaction_id</th>\n",
       "      <th>counterparty</th>\n",
       "    </tr>\n",
       "  </thead>\n",
       "  <tbody>\n",
       "    <tr>\n",
       "      <th>2</th>\n",
       "      <td>203</td>\n",
       "      <td>Iran Trading</td>\n",
       "    </tr>\n",
       "  </tbody>\n",
       "</table>\n",
       "</div>"
      ],
      "text/plain": [
       "   transaction_id  counterparty\n",
       "2             203  Iran Trading"
      ]
     },
     "execution_count": 53,
     "metadata": {},
     "output_type": "execute_result"
    }
   ],
   "source": [
    "transactions[transactions['counterparty'].isin(sanctions_list['entity'])]"
   ]
  },
  {
   "cell_type": "markdown",
   "id": "6d4a07fb-311f-4e3f-b960-3af0ff3868ce",
   "metadata": {},
   "source": [
    "Exercise 4 solution"
   ]
  },
  {
   "cell_type": "code",
   "execution_count": 54,
   "id": "dda530f4-2dba-4349-ab80-0aef57bee334",
   "metadata": {},
   "outputs": [
    {
     "data": {
      "text/html": [
       "<div>\n",
       "<style scoped>\n",
       "    .dataframe tbody tr th:only-of-type {\n",
       "        vertical-align: middle;\n",
       "    }\n",
       "\n",
       "    .dataframe tbody tr th {\n",
       "        vertical-align: top;\n",
       "    }\n",
       "\n",
       "    .dataframe thead th {\n",
       "        text-align: right;\n",
       "    }\n",
       "</style>\n",
       "<table border=\"1\" class=\"dataframe\">\n",
       "  <thead>\n",
       "    <tr style=\"text-align: right;\">\n",
       "      <th></th>\n",
       "      <th>transaction_id</th>\n",
       "      <th>counterparty</th>\n",
       "    </tr>\n",
       "  </thead>\n",
       "  <tbody>\n",
       "    <tr>\n",
       "      <th>2</th>\n",
       "      <td>203</td>\n",
       "      <td>Iran Trading</td>\n",
       "    </tr>\n",
       "  </tbody>\n",
       "</table>\n",
       "</div>"
      ],
      "text/plain": [
       "   transaction_id  counterparty\n",
       "2             203  Iran Trading"
      ]
     },
     "execution_count": 54,
     "metadata": {},
     "output_type": "execute_result"
    }
   ],
   "source": [
    "flagged = transactions[transactions[\"counterparty\"].isin(sanctions_list[\"entity\"])]\n",
    "flagged"
   ]
  },
  {
   "cell_type": "markdown",
   "id": "3888d4dc-6e0f-430b-a941-e02563093c31",
   "metadata": {},
   "source": [
    "### Exercise 5: Model Evaluation — Confusion Matrix in Compliance\n",
    "\n",
    "Instruction:\n",
    "\n",
    "Given model predictions for suspicious transactions, compute confusion matrix metrics: accuracy, precision, recall.\n",
    "\n",
    "Sample Data:"
   ]
  },
  {
   "cell_type": "code",
   "execution_count": 55,
   "id": "ac6ceb7e-deb1-408f-982d-ae695306a959",
   "metadata": {},
   "outputs": [],
   "source": [
    "from sklearn.metrics import confusion_matrix, accuracy_score, precision_score, recall_score\n",
    "\n",
    "y_true = [1, 0, 1, 1, 0, 0, 1]   # 1 = suspicious, 0 = normal\n",
    "y_pred = [1, 0, 1, 0, 0, 1, 1]"
   ]
  },
  {
   "cell_type": "markdown",
   "id": "9015ef01-defa-42b6-b56c-866f500fc62a",
   "metadata": {},
   "source": [
    "Exercise 5 solution"
   ]
  },
  {
   "cell_type": "code",
   "execution_count": 59,
   "id": "1de02ce3-ea46-45a6-9a15-e66e1f313850",
   "metadata": {},
   "outputs": [
    {
     "data": {
      "text/plain": [
       "(array([[2, 1],\n",
       "        [1, 3]], dtype=int64),\n",
       " 0.7142857142857143,\n",
       " 0.75,\n",
       " 0.75)"
      ]
     },
     "execution_count": 59,
     "metadata": {},
     "output_type": "execute_result"
    }
   ],
   "source": [
    "cm = confusion_matrix(y_true, y_pred)\n",
    "acc = accuracy_score(y_true, y_pred)\n",
    "prec = precision_score(y_true, y_pred)\n",
    "rec = recall_score(y_true, y_pred)\n",
    "\n",
    "cm, acc, prec, rec"
   ]
  },
  {
   "cell_type": "code",
   "execution_count": 58,
   "id": "b30417c3-b795-4de3-8dd5-c3c5aa4ce73a",
   "metadata": {},
   "outputs": [
    {
     "data": {
      "text/plain": [
       "'\\nExplanation:\\n\\nconfusion_matrix: [[TN, FP], [FN, TP]]\\nAccuracy = overall correctness.\\nPrecision = TP / (TP+FP) → \"Of flagged suspicious, how many were truly suspicious?\"\\nRecall = TP / (TP+FN) → \"How many suspicious did we catch?\"\\nThis is core for evaluating compliance/fraud models.\\n'"
      ]
     },
     "execution_count": 58,
     "metadata": {},
     "output_type": "execute_result"
    }
   ],
   "source": [
    "\"\"\"\n",
    "Explanation:\n",
    "\n",
    "confusion_matrix: [[TN, FP], [FN, TP]]\n",
    "Accuracy = overall correctness.\n",
    "Precision = TP / (TP+FP) → \"Of flagged suspicious, how many were truly suspicious?\"\n",
    "Recall = TP / (TP+FN) → \"How many suspicious did we catch?\"\n",
    "This is core for evaluating compliance/fraud models.\n",
    "\"\"\""
   ]
  },
  {
   "cell_type": "markdown",
   "id": "8cfc70be-4a14-4d65-9895-940834d071bd",
   "metadata": {},
   "source": [
    "### Exercise 6: Transaction Monitoring — Rolling Suspicious Patterns\n",
    "\n",
    "Instruction:\n",
    "\n",
    "For each customer, calculate a 7-day rolling sum of transaction amounts. Flag customers whose rolling sum exceeds $50,000.\n",
    "\n",
    "Sample Data:"
   ]
  },
  {
   "cell_type": "code",
   "execution_count": 126,
   "id": "675b3103-ec2e-41a6-bc46-a70ab1498d4b",
   "metadata": {},
   "outputs": [],
   "source": [
    "import pandas as pd\n",
    "\n",
    "data = {\n",
    "    \"customer_id\": [\"C1\",\"C1\",\"C1\",\"C2\",\"C2\",\"C2\",\"C3\",\"C3\"],\n",
    "    \"transaction_date\": [\n",
    "        \"2024-08-01\",\"2024-08-03\",\"2024-08-07\",\n",
    "        \"2024-08-01\",\"2024-08-05\",\"2024-08-08\",\n",
    "        \"2024-08-02\",\"2024-08-09\"\n",
    "    ],\n",
    "    \"amount\": [20000, 15000, 18000, 10000, 30000, 12000, 5000, 60000]\n",
    "}\n",
    "df = pd.DataFrame(data)\n",
    "df[\"transaction_date\"] = pd.to_datetime(df[\"transaction_date\"])\n"
   ]
  },
  {
   "cell_type": "code",
   "execution_count": 127,
   "id": "68ed654f-e62b-4e26-bfe6-404fc7f4d02e",
   "metadata": {},
   "outputs": [
    {
     "data": {
      "text/html": [
       "<div>\n",
       "<style scoped>\n",
       "    .dataframe tbody tr th:only-of-type {\n",
       "        vertical-align: middle;\n",
       "    }\n",
       "\n",
       "    .dataframe tbody tr th {\n",
       "        vertical-align: top;\n",
       "    }\n",
       "\n",
       "    .dataframe thead th {\n",
       "        text-align: right;\n",
       "    }\n",
       "</style>\n",
       "<table border=\"1\" class=\"dataframe\">\n",
       "  <thead>\n",
       "    <tr style=\"text-align: right;\">\n",
       "      <th></th>\n",
       "      <th>customer_id</th>\n",
       "      <th>transaction_date</th>\n",
       "      <th>amount</th>\n",
       "    </tr>\n",
       "  </thead>\n",
       "  <tbody>\n",
       "    <tr>\n",
       "      <th>0</th>\n",
       "      <td>C1</td>\n",
       "      <td>2024-08-01</td>\n",
       "      <td>20000</td>\n",
       "    </tr>\n",
       "    <tr>\n",
       "      <th>1</th>\n",
       "      <td>C1</td>\n",
       "      <td>2024-08-03</td>\n",
       "      <td>15000</td>\n",
       "    </tr>\n",
       "    <tr>\n",
       "      <th>2</th>\n",
       "      <td>C1</td>\n",
       "      <td>2024-08-07</td>\n",
       "      <td>18000</td>\n",
       "    </tr>\n",
       "    <tr>\n",
       "      <th>3</th>\n",
       "      <td>C2</td>\n",
       "      <td>2024-08-01</td>\n",
       "      <td>10000</td>\n",
       "    </tr>\n",
       "    <tr>\n",
       "      <th>4</th>\n",
       "      <td>C2</td>\n",
       "      <td>2024-08-05</td>\n",
       "      <td>30000</td>\n",
       "    </tr>\n",
       "    <tr>\n",
       "      <th>5</th>\n",
       "      <td>C2</td>\n",
       "      <td>2024-08-08</td>\n",
       "      <td>12000</td>\n",
       "    </tr>\n",
       "    <tr>\n",
       "      <th>6</th>\n",
       "      <td>C3</td>\n",
       "      <td>2024-08-02</td>\n",
       "      <td>5000</td>\n",
       "    </tr>\n",
       "    <tr>\n",
       "      <th>7</th>\n",
       "      <td>C3</td>\n",
       "      <td>2024-08-09</td>\n",
       "      <td>60000</td>\n",
       "    </tr>\n",
       "  </tbody>\n",
       "</table>\n",
       "</div>"
      ],
      "text/plain": [
       "  customer_id transaction_date  amount\n",
       "0          C1       2024-08-01   20000\n",
       "1          C1       2024-08-03   15000\n",
       "2          C1       2024-08-07   18000\n",
       "3          C2       2024-08-01   10000\n",
       "4          C2       2024-08-05   30000\n",
       "5          C2       2024-08-08   12000\n",
       "6          C3       2024-08-02    5000\n",
       "7          C3       2024-08-09   60000"
      ]
     },
     "execution_count": 127,
     "metadata": {},
     "output_type": "execute_result"
    }
   ],
   "source": [
    "df"
   ]
  },
  {
   "cell_type": "markdown",
   "id": "314c51d2-3f7f-4e4a-b435-cb98bdcb46dd",
   "metadata": {},
   "source": [
    "Exercise 6 solution"
   ]
  },
  {
   "cell_type": "code",
   "execution_count": 129,
   "id": "c42af8e1-1b99-40ab-ad0e-c25bd30a1142",
   "metadata": {},
   "outputs": [
    {
     "name": "stdout",
     "output_type": "stream",
     "text": [
      "  customer_id transaction_date  amount  rolling_sum\n",
      "2          C1       2024-08-07   18000      53000.0\n",
      "7          C3       2024-08-09   60000      60000.0\n"
     ]
    },
    {
     "name": "stderr",
     "output_type": "stream",
     "text": [
      "C:\\Users\\lizha\\AppData\\Local\\Temp\\ipykernel_47588\\91229953.py:7: DeprecationWarning: DataFrameGroupBy.apply operated on the grouping columns. This behavior is deprecated, and in a future version of pandas the grouping columns will be excluded from the operation. Either pass `include_groups=False` to exclude the groupings or explicitly select the grouping columns after groupby to silence this warning.\n",
      "  .apply(lambda t: t.rolling(\"7D\", on=\"transaction_date\")[\"amount\"].sum())\n"
     ]
    }
   ],
   "source": [
    "# ensure sorted by customer and date\n",
    "df = df.sort_values([\"customer_id\", \"transaction_date\"])\n",
    "\n",
    "# rolling 7-day sum per customer\n",
    "df[\"rolling_sum\"] = (\n",
    "    df.groupby(\"customer_id\", group_keys=False)\n",
    "      .apply(lambda t: t.rolling(\"7D\", on=\"transaction_date\")[\"amount\"].sum())\n",
    ")\n",
    "\n",
    "# flag suspicious\n",
    "suspicious = df[df[\"rolling_sum\"] > 50000]\n",
    "print(suspicious)"
   ]
  },
  {
   "cell_type": "markdown",
   "id": "12cb49c4-8348-426d-8f48-dc8767a4b3ee",
   "metadata": {},
   "source": [
    "### Exercise 7: Customer Risk Scoring — Weighted Aggregation\n",
    "\n",
    "Instruction:\n",
    "\n",
    "Compute a risk score per customer as:\n",
    "```\n",
    ">>> risk = 0.6 × (mean transaction amount) + 0.4 × (transaction count)\n",
    "```\n",
    "Return the top 3 riskiest customers.\n",
    "\n",
    "Sample Data:"
   ]
  },
  {
   "cell_type": "code",
   "execution_count": 87,
   "id": "23d4dd17-c0d7-44ea-86a1-602fae0a2a91",
   "metadata": {},
   "outputs": [],
   "source": [
    "data = {\n",
    "    \"customer_id\": [\"C1\",\"C1\",\"C2\",\"C2\",\"C2\",\"C3\",\"C4\"],\n",
    "    \"amount\": [1000, 5000, 20000, 15000, 3000, 10000, 2000]\n",
    "}\n",
    "df = pd.DataFrame(data)\n"
   ]
  },
  {
   "cell_type": "code",
   "execution_count": 88,
   "id": "f77dbd9a-f44d-4fca-ac71-1fc5527b3ae9",
   "metadata": {},
   "outputs": [
    {
     "ename": "KeyError",
     "evalue": "\"None of [Index([4800.8, 4801.2, 4800.4, 4800.4, 4800.8, 4801.2, 4800.4, 4800.4, 4800.8,\\n       4801.2, 4800.4, 4800.4, 4800.8, 4801.2, 4800.4, 4800.4],\\n      dtype='float64')] are in the [columns]\"",
     "output_type": "error",
     "traceback": [
      "\u001b[1;31m---------------------------------------------------------------------------\u001b[0m",
      "\u001b[1;31mKeyError\u001b[0m                                  Traceback (most recent call last)",
      "Cell \u001b[1;32mIn[88], line 5\u001b[0m\n\u001b[0;32m      3\u001b[0m \u001b[38;5;28;01mdef\u001b[39;00m \u001b[38;5;21mscore\u001b[39m(x):\n\u001b[0;32m      4\u001b[0m     \u001b[38;5;28;01mreturn\u001b[39;00m \u001b[38;5;241m0.6\u001b[39m \u001b[38;5;241m*\u001b[39m mean \u001b[38;5;241m+\u001b[39m \u001b[38;5;241m0.4\u001b[39m \u001b[38;5;241m*\u001b[39m count\n\u001b[1;32m----> 5\u001b[0m df[\u001b[38;5;124m'\u001b[39m\u001b[38;5;124mscore\u001b[39m\u001b[38;5;124m'\u001b[39m] \u001b[38;5;241m=\u001b[39m df[df[\u001b[38;5;124m'\u001b[39m\u001b[38;5;124mcustomer_id\u001b[39m\u001b[38;5;124m'\u001b[39m]\u001b[38;5;241m.\u001b[39mgroupby(df[\u001b[38;5;124m'\u001b[39m\u001b[38;5;124mcustomer_id\u001b[39m\u001b[38;5;124m'\u001b[39m])\u001b[38;5;241m.\u001b[39mapply(score)]\n",
      "File \u001b[1;32m~\\anaconda3\\Lib\\site-packages\\pandas\\core\\frame.py:4108\u001b[0m, in \u001b[0;36mDataFrame.__getitem__\u001b[1;34m(self, key)\u001b[0m\n\u001b[0;32m   4106\u001b[0m     \u001b[38;5;28;01mif\u001b[39;00m is_iterator(key):\n\u001b[0;32m   4107\u001b[0m         key \u001b[38;5;241m=\u001b[39m \u001b[38;5;28mlist\u001b[39m(key)\n\u001b[1;32m-> 4108\u001b[0m     indexer \u001b[38;5;241m=\u001b[39m \u001b[38;5;28mself\u001b[39m\u001b[38;5;241m.\u001b[39mcolumns\u001b[38;5;241m.\u001b[39m_get_indexer_strict(key, \u001b[38;5;124m\"\u001b[39m\u001b[38;5;124mcolumns\u001b[39m\u001b[38;5;124m\"\u001b[39m)[\u001b[38;5;241m1\u001b[39m]\n\u001b[0;32m   4110\u001b[0m \u001b[38;5;66;03m# take() does not accept boolean indexers\u001b[39;00m\n\u001b[0;32m   4111\u001b[0m \u001b[38;5;28;01mif\u001b[39;00m \u001b[38;5;28mgetattr\u001b[39m(indexer, \u001b[38;5;124m\"\u001b[39m\u001b[38;5;124mdtype\u001b[39m\u001b[38;5;124m\"\u001b[39m, \u001b[38;5;28;01mNone\u001b[39;00m) \u001b[38;5;241m==\u001b[39m \u001b[38;5;28mbool\u001b[39m:\n",
      "File \u001b[1;32m~\\anaconda3\\Lib\\site-packages\\pandas\\core\\indexes\\base.py:6200\u001b[0m, in \u001b[0;36mIndex._get_indexer_strict\u001b[1;34m(self, key, axis_name)\u001b[0m\n\u001b[0;32m   6197\u001b[0m \u001b[38;5;28;01melse\u001b[39;00m:\n\u001b[0;32m   6198\u001b[0m     keyarr, indexer, new_indexer \u001b[38;5;241m=\u001b[39m \u001b[38;5;28mself\u001b[39m\u001b[38;5;241m.\u001b[39m_reindex_non_unique(keyarr)\n\u001b[1;32m-> 6200\u001b[0m \u001b[38;5;28mself\u001b[39m\u001b[38;5;241m.\u001b[39m_raise_if_missing(keyarr, indexer, axis_name)\n\u001b[0;32m   6202\u001b[0m keyarr \u001b[38;5;241m=\u001b[39m \u001b[38;5;28mself\u001b[39m\u001b[38;5;241m.\u001b[39mtake(indexer)\n\u001b[0;32m   6203\u001b[0m \u001b[38;5;28;01mif\u001b[39;00m \u001b[38;5;28misinstance\u001b[39m(key, Index):\n\u001b[0;32m   6204\u001b[0m     \u001b[38;5;66;03m# GH 42790 - Preserve name from an Index\u001b[39;00m\n",
      "File \u001b[1;32m~\\anaconda3\\Lib\\site-packages\\pandas\\core\\indexes\\base.py:6249\u001b[0m, in \u001b[0;36mIndex._raise_if_missing\u001b[1;34m(self, key, indexer, axis_name)\u001b[0m\n\u001b[0;32m   6247\u001b[0m \u001b[38;5;28;01mif\u001b[39;00m nmissing:\n\u001b[0;32m   6248\u001b[0m     \u001b[38;5;28;01mif\u001b[39;00m nmissing \u001b[38;5;241m==\u001b[39m \u001b[38;5;28mlen\u001b[39m(indexer):\n\u001b[1;32m-> 6249\u001b[0m         \u001b[38;5;28;01mraise\u001b[39;00m \u001b[38;5;167;01mKeyError\u001b[39;00m(\u001b[38;5;124mf\u001b[39m\u001b[38;5;124m\"\u001b[39m\u001b[38;5;124mNone of [\u001b[39m\u001b[38;5;132;01m{\u001b[39;00mkey\u001b[38;5;132;01m}\u001b[39;00m\u001b[38;5;124m] are in the [\u001b[39m\u001b[38;5;132;01m{\u001b[39;00maxis_name\u001b[38;5;132;01m}\u001b[39;00m\u001b[38;5;124m]\u001b[39m\u001b[38;5;124m\"\u001b[39m)\n\u001b[0;32m   6251\u001b[0m     not_found \u001b[38;5;241m=\u001b[39m \u001b[38;5;28mlist\u001b[39m(ensure_index(key)[missing_mask\u001b[38;5;241m.\u001b[39mnonzero()[\u001b[38;5;241m0\u001b[39m]]\u001b[38;5;241m.\u001b[39munique())\n\u001b[0;32m   6252\u001b[0m     \u001b[38;5;28;01mraise\u001b[39;00m \u001b[38;5;167;01mKeyError\u001b[39;00m(\u001b[38;5;124mf\u001b[39m\u001b[38;5;124m\"\u001b[39m\u001b[38;5;132;01m{\u001b[39;00mnot_found\u001b[38;5;132;01m}\u001b[39;00m\u001b[38;5;124m not in index\u001b[39m\u001b[38;5;124m\"\u001b[39m)\n",
      "\u001b[1;31mKeyError\u001b[0m: \"None of [Index([4800.8, 4801.2, 4800.4, 4800.4, 4800.8, 4801.2, 4800.4, 4800.4, 4800.8,\\n       4801.2, 4800.4, 4800.4, 4800.8, 4801.2, 4800.4, 4800.4],\\n      dtype='float64')] are in the [columns]\""
     ]
    }
   ],
   "source": [
    "mean = df['amount'].mean()\n",
    "count = df['customer_id'].groupby(df['customer_id']).count()\n",
    "def score(x):\n",
    "    return 0.6 * mean + 0.4 * count\n",
    "df['score'] = df[df['customer_id'].groupby(df['customer_id']).apply(score)]"
   ]
  },
  {
   "cell_type": "markdown",
   "id": "f7d876c9-3e1d-407d-9a59-dd2063f9373a",
   "metadata": {},
   "source": [
    "Exercise 7 solution"
   ]
  },
  {
   "cell_type": "code",
   "execution_count": 89,
   "id": "feba1c96-1242-4963-8e81-cecdb3795f4d",
   "metadata": {},
   "outputs": [
    {
     "data": {
      "text/html": [
       "<div>\n",
       "<style scoped>\n",
       "    .dataframe tbody tr th:only-of-type {\n",
       "        vertical-align: middle;\n",
       "    }\n",
       "\n",
       "    .dataframe tbody tr th {\n",
       "        vertical-align: top;\n",
       "    }\n",
       "\n",
       "    .dataframe thead th {\n",
       "        text-align: right;\n",
       "    }\n",
       "</style>\n",
       "<table border=\"1\" class=\"dataframe\">\n",
       "  <thead>\n",
       "    <tr style=\"text-align: right;\">\n",
       "      <th></th>\n",
       "      <th>customer_id</th>\n",
       "      <th>mean_amount</th>\n",
       "      <th>txn_count</th>\n",
       "      <th>risk_score</th>\n",
       "    </tr>\n",
       "  </thead>\n",
       "  <tbody>\n",
       "    <tr>\n",
       "      <th>1</th>\n",
       "      <td>C2</td>\n",
       "      <td>12666.666667</td>\n",
       "      <td>3</td>\n",
       "      <td>7601.2</td>\n",
       "    </tr>\n",
       "    <tr>\n",
       "      <th>2</th>\n",
       "      <td>C3</td>\n",
       "      <td>10000.000000</td>\n",
       "      <td>1</td>\n",
       "      <td>6000.4</td>\n",
       "    </tr>\n",
       "    <tr>\n",
       "      <th>0</th>\n",
       "      <td>C1</td>\n",
       "      <td>3000.000000</td>\n",
       "      <td>2</td>\n",
       "      <td>1800.8</td>\n",
       "    </tr>\n",
       "  </tbody>\n",
       "</table>\n",
       "</div>"
      ],
      "text/plain": [
       "  customer_id   mean_amount  txn_count  risk_score\n",
       "1          C2  12666.666667          3      7601.2\n",
       "2          C3  10000.000000          1      6000.4\n",
       "0          C1   3000.000000          2      1800.8"
      ]
     },
     "execution_count": 89,
     "metadata": {},
     "output_type": "execute_result"
    }
   ],
   "source": [
    "agg = df.groupby(\"customer_id\").agg(\n",
    "    mean_amount=(\"amount\",\"mean\"),\n",
    "    txn_count=(\"amount\",\"count\")\n",
    ").reset_index()\n",
    "\n",
    "agg[\"risk_score\"] = 0.6*agg[\"mean_amount\"] + 0.4*agg[\"txn_count\"]\n",
    "\n",
    "top3 = agg.sort_values(\"risk_score\", ascending=False).head(3)\n",
    "top3\n"
   ]
  },
  {
   "cell_type": "markdown",
   "id": "10b2693c-45ba-4f75-ac1b-013d684025ad",
   "metadata": {},
   "source": [
    "### Exercise 8: Data Quality — Detect Duplicate Suspicious Records\n",
    "\n",
    "Instruction:\n",
    "\n",
    "From the transactions dataset, identify duplicate records (same customer, date, and amount). Report the percentage of duplicates.\n",
    "\n",
    "Sample Data:"
   ]
  },
  {
   "cell_type": "code",
   "execution_count": 91,
   "id": "795646b9-be05-4a0a-b7c8-394d3b9c9759",
   "metadata": {},
   "outputs": [],
   "source": [
    "data = {\n",
    "    \"customer_id\": [\"C1\",\"C1\",\"C2\",\"C2\",\"C2\",\"C3\",\"C3\"],\n",
    "    \"transaction_date\": [\n",
    "        \"2024-08-01\",\"2024-08-01\",\n",
    "        \"2024-08-03\",\"2024-08-03\",\"2024-08-03\",\n",
    "        \"2024-08-04\",\"2024-08-05\"\n",
    "    ],\n",
    "    \"amount\": [1000, 1000, 2000, 2000, 2500, 3000, 3000]\n",
    "}\n",
    "df = pd.DataFrame(data)\n",
    "df[\"transaction_date\"] = pd.to_datetime(df[\"transaction_date\"])\n"
   ]
  },
  {
   "cell_type": "code",
   "execution_count": 92,
   "id": "dc3527f6-c4bc-4367-857a-9be31b7c3c91",
   "metadata": {},
   "outputs": [
    {
     "data": {
      "text/html": [
       "<div>\n",
       "<style scoped>\n",
       "    .dataframe tbody tr th:only-of-type {\n",
       "        vertical-align: middle;\n",
       "    }\n",
       "\n",
       "    .dataframe tbody tr th {\n",
       "        vertical-align: top;\n",
       "    }\n",
       "\n",
       "    .dataframe thead th {\n",
       "        text-align: right;\n",
       "    }\n",
       "</style>\n",
       "<table border=\"1\" class=\"dataframe\">\n",
       "  <thead>\n",
       "    <tr style=\"text-align: right;\">\n",
       "      <th></th>\n",
       "      <th>customer_id</th>\n",
       "      <th>transaction_date</th>\n",
       "      <th>amount</th>\n",
       "    </tr>\n",
       "  </thead>\n",
       "  <tbody>\n",
       "    <tr>\n",
       "      <th>0</th>\n",
       "      <td>C1</td>\n",
       "      <td>2024-08-01</td>\n",
       "      <td>1000</td>\n",
       "    </tr>\n",
       "    <tr>\n",
       "      <th>1</th>\n",
       "      <td>C1</td>\n",
       "      <td>2024-08-01</td>\n",
       "      <td>1000</td>\n",
       "    </tr>\n",
       "    <tr>\n",
       "      <th>2</th>\n",
       "      <td>C2</td>\n",
       "      <td>2024-08-03</td>\n",
       "      <td>2000</td>\n",
       "    </tr>\n",
       "    <tr>\n",
       "      <th>3</th>\n",
       "      <td>C2</td>\n",
       "      <td>2024-08-03</td>\n",
       "      <td>2000</td>\n",
       "    </tr>\n",
       "    <tr>\n",
       "      <th>4</th>\n",
       "      <td>C2</td>\n",
       "      <td>2024-08-03</td>\n",
       "      <td>2500</td>\n",
       "    </tr>\n",
       "    <tr>\n",
       "      <th>5</th>\n",
       "      <td>C3</td>\n",
       "      <td>2024-08-04</td>\n",
       "      <td>3000</td>\n",
       "    </tr>\n",
       "    <tr>\n",
       "      <th>6</th>\n",
       "      <td>C3</td>\n",
       "      <td>2024-08-05</td>\n",
       "      <td>3000</td>\n",
       "    </tr>\n",
       "  </tbody>\n",
       "</table>\n",
       "</div>"
      ],
      "text/plain": [
       "  customer_id transaction_date  amount\n",
       "0          C1       2024-08-01    1000\n",
       "1          C1       2024-08-01    1000\n",
       "2          C2       2024-08-03    2000\n",
       "3          C2       2024-08-03    2000\n",
       "4          C2       2024-08-03    2500\n",
       "5          C3       2024-08-04    3000\n",
       "6          C3       2024-08-05    3000"
      ]
     },
     "execution_count": 92,
     "metadata": {},
     "output_type": "execute_result"
    }
   ],
   "source": [
    "df"
   ]
  },
  {
   "cell_type": "markdown",
   "id": "41d9c27c-65a7-4348-aefb-16596615ce2f",
   "metadata": {},
   "source": [
    "Exercise 8 solution"
   ]
  },
  {
   "cell_type": "code",
   "execution_count": 99,
   "id": "d803d36a-81b9-4eed-9548-e42ba32b3c4e",
   "metadata": {},
   "outputs": [
    {
     "data": {
      "text/plain": [
       "(2, 28.57142857142857)"
      ]
     },
     "execution_count": 99,
     "metadata": {},
     "output_type": "execute_result"
    }
   ],
   "source": [
    "duplicates = df.duplicated(subset=[\"customer_id\",\"transaction_date\",\"amount\"])\n",
    "duplicate_count = duplicates.sum()\n",
    "duplicate_percentage = duplicate_count / len(df) * 100\n",
    "\n",
    "duplicate_count, duplicate_percentage\n"
   ]
  },
  {
   "cell_type": "code",
   "execution_count": 100,
   "id": "4a726d04-12b0-4f86-8874-c0b7c6efc555",
   "metadata": {},
   "outputs": [
    {
     "data": {
      "text/plain": [
       "0    False\n",
       "1     True\n",
       "2    False\n",
       "3     True\n",
       "4    False\n",
       "5    False\n",
       "6    False\n",
       "dtype: bool"
      ]
     },
     "execution_count": 100,
     "metadata": {},
     "output_type": "execute_result"
    }
   ],
   "source": [
    "duplicates"
   ]
  },
  {
   "cell_type": "markdown",
   "id": "cf7c6f0e-4761-47a2-b78d-4a915c36f258",
   "metadata": {},
   "source": [
    "### Exercise 9: Sanctions Evasion — Name Matching (Fuzzy Join Simplified)\n",
    "\n",
    "Instruction:\n",
    "\n",
    "You have counterparties and a sanctions list. Detect possible near-matches using simple text rules (lowercasing, stripping punctuation, partial string match).\n",
    "\n",
    "Sample Data:"
   ]
  },
  {
   "cell_type": "code",
   "execution_count": 101,
   "id": "ae2013fc-eb62-4594-b241-5d477f8c278e",
   "metadata": {},
   "outputs": [],
   "source": [
    "transactions = pd.DataFrame({\n",
    "    \"counterparty\": [\"Iran Trading Ltd\", \"XYZ Global\", \"NorthKorea Exports\", \"ABC Corp\"]\n",
    "})\n",
    "\n",
    "sanctions = pd.DataFrame({\n",
    "    \"entity\": [\"iran trading\", \"north korea exports\"]\n",
    "})\n"
   ]
  },
  {
   "cell_type": "code",
   "execution_count": null,
   "id": "799e56d5-f08e-4748-af3f-7bf43f1fc4c2",
   "metadata": {},
   "outputs": [],
   "source": []
  },
  {
   "cell_type": "markdown",
   "id": "62d646bd-9e75-4111-a82d-8b2e08acccf4",
   "metadata": {},
   "source": [
    "Exercise 9 solution"
   ]
  },
  {
   "cell_type": "code",
   "execution_count": 102,
   "id": "1dfb66de-6774-4cc1-a439-df2c89a7de74",
   "metadata": {},
   "outputs": [
    {
     "data": {
      "text/html": [
       "<div>\n",
       "<style scoped>\n",
       "    .dataframe tbody tr th:only-of-type {\n",
       "        vertical-align: middle;\n",
       "    }\n",
       "\n",
       "    .dataframe tbody tr th {\n",
       "        vertical-align: top;\n",
       "    }\n",
       "\n",
       "    .dataframe thead th {\n",
       "        text-align: right;\n",
       "    }\n",
       "</style>\n",
       "<table border=\"1\" class=\"dataframe\">\n",
       "  <thead>\n",
       "    <tr style=\"text-align: right;\">\n",
       "      <th></th>\n",
       "      <th>counterparty</th>\n",
       "      <th>clean_name</th>\n",
       "    </tr>\n",
       "  </thead>\n",
       "  <tbody>\n",
       "    <tr>\n",
       "      <th>0</th>\n",
       "      <td>Iran Trading Ltd</td>\n",
       "      <td>iran trading ltd</td>\n",
       "    </tr>\n",
       "  </tbody>\n",
       "</table>\n",
       "</div>"
      ],
      "text/plain": [
       "       counterparty        clean_name\n",
       "0  Iran Trading Ltd  iran trading ltd"
      ]
     },
     "execution_count": 102,
     "metadata": {},
     "output_type": "execute_result"
    }
   ],
   "source": [
    "transactions[\"clean_name\"] = transactions[\"counterparty\"].str.lower().str.replace(\"[^a-z ]\",\"\", regex=True)\n",
    "\n",
    "matches = transactions[transactions[\"clean_name\"].apply(\n",
    "    lambda x: any(s in x for s in sanctions[\"entity\"].str.lower())\n",
    ")]\n",
    "matches\n"
   ]
  },
  {
   "cell_type": "markdown",
   "id": "c3e24b1c-012a-4956-a30c-b3416a6ee6d0",
   "metadata": {},
   "source": [
    "### Exercise 10: Model Validation — Precision/Recall by Threshold\n",
    "\n",
    "Instruction:\n",
    "\n",
    "Given fraud risk scores, calculate precision and recall at thresholds 0.3, 0.5, and 0.7.\n",
    "\n",
    "Sample Data:"
   ]
  },
  {
   "cell_type": "code",
   "execution_count": 103,
   "id": "e92fc093-c8b9-4c83-b720-e46ff788a13c",
   "metadata": {},
   "outputs": [],
   "source": [
    "import numpy as np\n",
    "from sklearn.metrics import precision_score, recall_score\n",
    "\n",
    "y_true = np.array([1,0,1,0,1,0,0,1,1,0])\n",
    "scores = np.array([0.9,0.2,0.7,0.4,0.8,0.1,0.35,0.6,0.55,0.05])\n"
   ]
  },
  {
   "cell_type": "markdown",
   "id": "5155ebeb-a6e3-4779-87fd-1f3103370133",
   "metadata": {},
   "source": [
    "Exercise 10 solution"
   ]
  },
  {
   "cell_type": "code",
   "execution_count": 105,
   "id": "beab6973-d8cd-4318-b2dc-4e9b4567a7b4",
   "metadata": {},
   "outputs": [
    {
     "data": {
      "text/html": [
       "<div>\n",
       "<style scoped>\n",
       "    .dataframe tbody tr th:only-of-type {\n",
       "        vertical-align: middle;\n",
       "    }\n",
       "\n",
       "    .dataframe tbody tr th {\n",
       "        vertical-align: top;\n",
       "    }\n",
       "\n",
       "    .dataframe thead th {\n",
       "        text-align: right;\n",
       "    }\n",
       "</style>\n",
       "<table border=\"1\" class=\"dataframe\">\n",
       "  <thead>\n",
       "    <tr style=\"text-align: right;\">\n",
       "      <th></th>\n",
       "      <th>threshold</th>\n",
       "      <th>precision</th>\n",
       "      <th>recall</th>\n",
       "    </tr>\n",
       "  </thead>\n",
       "  <tbody>\n",
       "    <tr>\n",
       "      <th>0</th>\n",
       "      <td>0.3</td>\n",
       "      <td>0.714286</td>\n",
       "      <td>1.0</td>\n",
       "    </tr>\n",
       "    <tr>\n",
       "      <th>1</th>\n",
       "      <td>0.5</td>\n",
       "      <td>1.000000</td>\n",
       "      <td>1.0</td>\n",
       "    </tr>\n",
       "    <tr>\n",
       "      <th>2</th>\n",
       "      <td>0.7</td>\n",
       "      <td>1.000000</td>\n",
       "      <td>0.6</td>\n",
       "    </tr>\n",
       "  </tbody>\n",
       "</table>\n",
       "</div>"
      ],
      "text/plain": [
       "   threshold  precision  recall\n",
       "0        0.3   0.714286     1.0\n",
       "1        0.5   1.000000     1.0\n",
       "2        0.7   1.000000     0.6"
      ]
     },
     "execution_count": 105,
     "metadata": {},
     "output_type": "execute_result"
    }
   ],
   "source": [
    "thresholds = [0.3, 0.5, 0.7]\n",
    "results = []\n",
    "\n",
    "for t in thresholds:\n",
    "    preds = (scores >= t).astype(int)\n",
    "    prec = precision_score(y_true, preds)\n",
    "    rec = recall_score(y_true, preds)\n",
    "    results.append((t, prec, rec))\n",
    "\n",
    "pd.DataFrame(results, columns=[\"threshold\",\"precision\",\"recall\"])\n"
   ]
  },
  {
   "cell_type": "markdown",
   "id": "d27398be-32e3-4a37-83af-21b58987daa0",
   "metadata": {},
   "source": [
    "### Exercise 11: Handling Missing Values (Data Quality Check)\n",
    "\n",
    "Instruction:\n",
    "\n",
    "Identify transactions with missing amount or counterparty, and impute missing amounts with the median transaction amount.\n",
    "\n",
    "Sample Data:"
   ]
  },
  {
   "cell_type": "code",
   "execution_count": 115,
   "id": "035acd65-66e8-4cc1-97d2-7a018de00f6d",
   "metadata": {},
   "outputs": [],
   "source": [
    "import pandas as pd\n",
    "import numpy as np\n",
    "\n",
    "df = pd.DataFrame({\n",
    "    \"transaction_id\": [1,2,3,4,5],\n",
    "    \"counterparty\": [\"ABC Corp\", None, \"XYZ Ltd\", \"DEF Inc\", None],\n",
    "    \"amount\": [1000, 2000, np.nan, 5000, np.nan]\n",
    "})\n"
   ]
  },
  {
   "cell_type": "code",
   "execution_count": 116,
   "id": "2a28cd56-f99e-429f-9271-cfb1c4a83ee8",
   "metadata": {},
   "outputs": [
    {
     "data": {
      "text/html": [
       "<div>\n",
       "<style scoped>\n",
       "    .dataframe tbody tr th:only-of-type {\n",
       "        vertical-align: middle;\n",
       "    }\n",
       "\n",
       "    .dataframe tbody tr th {\n",
       "        vertical-align: top;\n",
       "    }\n",
       "\n",
       "    .dataframe thead th {\n",
       "        text-align: right;\n",
       "    }\n",
       "</style>\n",
       "<table border=\"1\" class=\"dataframe\">\n",
       "  <thead>\n",
       "    <tr style=\"text-align: right;\">\n",
       "      <th></th>\n",
       "      <th>transaction_id</th>\n",
       "      <th>counterparty</th>\n",
       "      <th>amount</th>\n",
       "    </tr>\n",
       "  </thead>\n",
       "  <tbody>\n",
       "    <tr>\n",
       "      <th>0</th>\n",
       "      <td>1</td>\n",
       "      <td>ABC Corp</td>\n",
       "      <td>1000.0</td>\n",
       "    </tr>\n",
       "    <tr>\n",
       "      <th>1</th>\n",
       "      <td>2</td>\n",
       "      <td>None</td>\n",
       "      <td>2000.0</td>\n",
       "    </tr>\n",
       "    <tr>\n",
       "      <th>2</th>\n",
       "      <td>3</td>\n",
       "      <td>XYZ Ltd</td>\n",
       "      <td>NaN</td>\n",
       "    </tr>\n",
       "    <tr>\n",
       "      <th>3</th>\n",
       "      <td>4</td>\n",
       "      <td>DEF Inc</td>\n",
       "      <td>5000.0</td>\n",
       "    </tr>\n",
       "    <tr>\n",
       "      <th>4</th>\n",
       "      <td>5</td>\n",
       "      <td>None</td>\n",
       "      <td>NaN</td>\n",
       "    </tr>\n",
       "  </tbody>\n",
       "</table>\n",
       "</div>"
      ],
      "text/plain": [
       "   transaction_id counterparty  amount\n",
       "0               1     ABC Corp  1000.0\n",
       "1               2         None  2000.0\n",
       "2               3      XYZ Ltd     NaN\n",
       "3               4      DEF Inc  5000.0\n",
       "4               5         None     NaN"
      ]
     },
     "execution_count": 116,
     "metadata": {},
     "output_type": "execute_result"
    }
   ],
   "source": [
    "df"
   ]
  },
  {
   "cell_type": "code",
   "execution_count": 117,
   "id": "aa142977-6110-4518-b8f2-6fccd5b76457",
   "metadata": {},
   "outputs": [
    {
     "name": "stderr",
     "output_type": "stream",
     "text": [
      "C:\\Users\\lizha\\AppData\\Local\\Temp\\ipykernel_47588\\713307609.py:1: FutureWarning: A value is trying to be set on a copy of a DataFrame or Series through chained assignment using an inplace method.\n",
      "The behavior will change in pandas 3.0. This inplace method will never work because the intermediate object on which we are setting values always behaves as a copy.\n",
      "\n",
      "For example, when doing 'df[col].method(value, inplace=True)', try using 'df.method({col: value}, inplace=True)' or df[col] = df[col].method(value) instead, to perform the operation inplace on the original object.\n",
      "\n",
      "\n",
      "  df['amount'].fillna(df['amount'].median(), inplace=True)\n"
     ]
    },
    {
     "data": {
      "text/html": [
       "<div>\n",
       "<style scoped>\n",
       "    .dataframe tbody tr th:only-of-type {\n",
       "        vertical-align: middle;\n",
       "    }\n",
       "\n",
       "    .dataframe tbody tr th {\n",
       "        vertical-align: top;\n",
       "    }\n",
       "\n",
       "    .dataframe thead th {\n",
       "        text-align: right;\n",
       "    }\n",
       "</style>\n",
       "<table border=\"1\" class=\"dataframe\">\n",
       "  <thead>\n",
       "    <tr style=\"text-align: right;\">\n",
       "      <th></th>\n",
       "      <th>transaction_id</th>\n",
       "      <th>counterparty</th>\n",
       "      <th>amount</th>\n",
       "    </tr>\n",
       "  </thead>\n",
       "  <tbody>\n",
       "    <tr>\n",
       "      <th>0</th>\n",
       "      <td>1</td>\n",
       "      <td>ABC Corp</td>\n",
       "      <td>1000.0</td>\n",
       "    </tr>\n",
       "    <tr>\n",
       "      <th>1</th>\n",
       "      <td>2</td>\n",
       "      <td>None</td>\n",
       "      <td>2000.0</td>\n",
       "    </tr>\n",
       "    <tr>\n",
       "      <th>2</th>\n",
       "      <td>3</td>\n",
       "      <td>XYZ Ltd</td>\n",
       "      <td>2000.0</td>\n",
       "    </tr>\n",
       "    <tr>\n",
       "      <th>3</th>\n",
       "      <td>4</td>\n",
       "      <td>DEF Inc</td>\n",
       "      <td>5000.0</td>\n",
       "    </tr>\n",
       "    <tr>\n",
       "      <th>4</th>\n",
       "      <td>5</td>\n",
       "      <td>None</td>\n",
       "      <td>2000.0</td>\n",
       "    </tr>\n",
       "  </tbody>\n",
       "</table>\n",
       "</div>"
      ],
      "text/plain": [
       "   transaction_id counterparty  amount\n",
       "0               1     ABC Corp  1000.0\n",
       "1               2         None  2000.0\n",
       "2               3      XYZ Ltd  2000.0\n",
       "3               4      DEF Inc  5000.0\n",
       "4               5         None  2000.0"
      ]
     },
     "execution_count": 117,
     "metadata": {},
     "output_type": "execute_result"
    }
   ],
   "source": [
    "df['amount'].fillna(df['amount'].median(), inplace=True)\n",
    "df"
   ]
  },
  {
   "cell_type": "markdown",
   "id": "07c9489c-1984-4f10-a8f2-206ebb4aa2ac",
   "metadata": {},
   "source": [
    "Exercise 11 solution"
   ]
  },
  {
   "cell_type": "code",
   "execution_count": 118,
   "id": "1df57ca3-2895-48bc-9f46-e99f4b3b9708",
   "metadata": {},
   "outputs": [
    {
     "name": "stderr",
     "output_type": "stream",
     "text": [
      "C:\\Users\\lizha\\AppData\\Local\\Temp\\ipykernel_47588\\3507053008.py:2: FutureWarning: A value is trying to be set on a copy of a DataFrame or Series through chained assignment using an inplace method.\n",
      "The behavior will change in pandas 3.0. This inplace method will never work because the intermediate object on which we are setting values always behaves as a copy.\n",
      "\n",
      "For example, when doing 'df[col].method(value, inplace=True)', try using 'df.method({col: value}, inplace=True)' or df[col] = df[col].method(value) instead, to perform the operation inplace on the original object.\n",
      "\n",
      "\n",
      "  df[\"amount\"].fillna(median_amount, inplace=True)\n"
     ]
    },
    {
     "data": {
      "text/html": [
       "<div>\n",
       "<style scoped>\n",
       "    .dataframe tbody tr th:only-of-type {\n",
       "        vertical-align: middle;\n",
       "    }\n",
       "\n",
       "    .dataframe tbody tr th {\n",
       "        vertical-align: top;\n",
       "    }\n",
       "\n",
       "    .dataframe thead th {\n",
       "        text-align: right;\n",
       "    }\n",
       "</style>\n",
       "<table border=\"1\" class=\"dataframe\">\n",
       "  <thead>\n",
       "    <tr style=\"text-align: right;\">\n",
       "      <th></th>\n",
       "      <th>transaction_id</th>\n",
       "      <th>counterparty</th>\n",
       "      <th>amount</th>\n",
       "    </tr>\n",
       "  </thead>\n",
       "  <tbody>\n",
       "    <tr>\n",
       "      <th>1</th>\n",
       "      <td>2</td>\n",
       "      <td>None</td>\n",
       "      <td>2000.0</td>\n",
       "    </tr>\n",
       "    <tr>\n",
       "      <th>4</th>\n",
       "      <td>5</td>\n",
       "      <td>None</td>\n",
       "      <td>2000.0</td>\n",
       "    </tr>\n",
       "  </tbody>\n",
       "</table>\n",
       "</div>"
      ],
      "text/plain": [
       "   transaction_id counterparty  amount\n",
       "1               2         None  2000.0\n",
       "4               5         None  2000.0"
      ]
     },
     "execution_count": 118,
     "metadata": {},
     "output_type": "execute_result"
    }
   ],
   "source": [
    "median_amount = df[\"amount\"].median()\n",
    "df[\"amount\"].fillna(median_amount, inplace=True)\n",
    "missing_counterparty = df[\"counterparty\"].isna()\n",
    "df[missing_counterparty]\n"
   ]
  },
  {
   "cell_type": "markdown",
   "id": "1ae4eefc-bd87-44b4-be73-059bd5860b59",
   "metadata": {},
   "source": [
    "### Exercise 12: GroupBy – Customer Risk Summary\n",
    "\n",
    "Instruction:\n",
    "\n",
    "For each customer, calculate total transaction amount, number of transactions, and average transaction amount.\n",
    "\n",
    "Sample Data:"
   ]
  },
  {
   "cell_type": "code",
   "execution_count": 119,
   "id": "8da092db-7854-463c-b9a5-550956c5a255",
   "metadata": {},
   "outputs": [],
   "source": [
    "df = pd.DataFrame({\n",
    "    \"customer_id\": [\"C1\",\"C1\",\"C2\",\"C2\",\"C3\",\"C3\",\"C3\"],\n",
    "    \"amount\": [5000, 7000, 12000, 8000, 2000, 3000, 1000]\n",
    "})\n"
   ]
  },
  {
   "cell_type": "code",
   "execution_count": 120,
   "id": "3fe4a51a-ab39-4ee3-a8b3-2eea0bb0df56",
   "metadata": {},
   "outputs": [
    {
     "data": {
      "text/html": [
       "<div>\n",
       "<style scoped>\n",
       "    .dataframe tbody tr th:only-of-type {\n",
       "        vertical-align: middle;\n",
       "    }\n",
       "\n",
       "    .dataframe tbody tr th {\n",
       "        vertical-align: top;\n",
       "    }\n",
       "\n",
       "    .dataframe thead th {\n",
       "        text-align: right;\n",
       "    }\n",
       "</style>\n",
       "<table border=\"1\" class=\"dataframe\">\n",
       "  <thead>\n",
       "    <tr style=\"text-align: right;\">\n",
       "      <th></th>\n",
       "      <th>customer_id</th>\n",
       "      <th>amount</th>\n",
       "    </tr>\n",
       "  </thead>\n",
       "  <tbody>\n",
       "    <tr>\n",
       "      <th>0</th>\n",
       "      <td>C1</td>\n",
       "      <td>5000</td>\n",
       "    </tr>\n",
       "    <tr>\n",
       "      <th>1</th>\n",
       "      <td>C1</td>\n",
       "      <td>7000</td>\n",
       "    </tr>\n",
       "    <tr>\n",
       "      <th>2</th>\n",
       "      <td>C2</td>\n",
       "      <td>12000</td>\n",
       "    </tr>\n",
       "    <tr>\n",
       "      <th>3</th>\n",
       "      <td>C2</td>\n",
       "      <td>8000</td>\n",
       "    </tr>\n",
       "    <tr>\n",
       "      <th>4</th>\n",
       "      <td>C3</td>\n",
       "      <td>2000</td>\n",
       "    </tr>\n",
       "    <tr>\n",
       "      <th>5</th>\n",
       "      <td>C3</td>\n",
       "      <td>3000</td>\n",
       "    </tr>\n",
       "    <tr>\n",
       "      <th>6</th>\n",
       "      <td>C3</td>\n",
       "      <td>1000</td>\n",
       "    </tr>\n",
       "  </tbody>\n",
       "</table>\n",
       "</div>"
      ],
      "text/plain": [
       "  customer_id  amount\n",
       "0          C1    5000\n",
       "1          C1    7000\n",
       "2          C2   12000\n",
       "3          C2    8000\n",
       "4          C3    2000\n",
       "5          C3    3000\n",
       "6          C3    1000"
      ]
     },
     "execution_count": 120,
     "metadata": {},
     "output_type": "execute_result"
    }
   ],
   "source": [
    "df"
   ]
  },
  {
   "cell_type": "code",
   "execution_count": 121,
   "id": "8aedc9fb-797a-460d-8031-3caca0ea1e28",
   "metadata": {},
   "outputs": [],
   "source": [
    "agg = df.groupby(\"customer_id\").agg(\n",
    "    cum_amount=(\"amount\",\"sum\"),\n",
    "    txn_count=(\"amount\",\"count\"),\n",
    "    avg_count=(\"amount\", \"mean\")\n",
    ").reset_index()"
   ]
  },
  {
   "cell_type": "code",
   "execution_count": 122,
   "id": "e7967b13-9e6f-44a3-bd71-f63d944c1730",
   "metadata": {},
   "outputs": [
    {
     "data": {
      "text/html": [
       "<div>\n",
       "<style scoped>\n",
       "    .dataframe tbody tr th:only-of-type {\n",
       "        vertical-align: middle;\n",
       "    }\n",
       "\n",
       "    .dataframe tbody tr th {\n",
       "        vertical-align: top;\n",
       "    }\n",
       "\n",
       "    .dataframe thead th {\n",
       "        text-align: right;\n",
       "    }\n",
       "</style>\n",
       "<table border=\"1\" class=\"dataframe\">\n",
       "  <thead>\n",
       "    <tr style=\"text-align: right;\">\n",
       "      <th></th>\n",
       "      <th>customer_id</th>\n",
       "      <th>cum_amount</th>\n",
       "      <th>txn_count</th>\n",
       "      <th>avg_count</th>\n",
       "    </tr>\n",
       "  </thead>\n",
       "  <tbody>\n",
       "    <tr>\n",
       "      <th>0</th>\n",
       "      <td>C1</td>\n",
       "      <td>12000</td>\n",
       "      <td>2</td>\n",
       "      <td>6000.0</td>\n",
       "    </tr>\n",
       "    <tr>\n",
       "      <th>1</th>\n",
       "      <td>C2</td>\n",
       "      <td>20000</td>\n",
       "      <td>2</td>\n",
       "      <td>10000.0</td>\n",
       "    </tr>\n",
       "    <tr>\n",
       "      <th>2</th>\n",
       "      <td>C3</td>\n",
       "      <td>6000</td>\n",
       "      <td>3</td>\n",
       "      <td>2000.0</td>\n",
       "    </tr>\n",
       "  </tbody>\n",
       "</table>\n",
       "</div>"
      ],
      "text/plain": [
       "  customer_id  cum_amount  txn_count  avg_count\n",
       "0          C1       12000          2     6000.0\n",
       "1          C2       20000          2    10000.0\n",
       "2          C3        6000          3     2000.0"
      ]
     },
     "execution_count": 122,
     "metadata": {},
     "output_type": "execute_result"
    }
   ],
   "source": [
    "agg"
   ]
  },
  {
   "cell_type": "markdown",
   "id": "5a25a4fd-d107-4654-872d-876f948ebdd7",
   "metadata": {},
   "source": [
    "Exercise 12 solution"
   ]
  },
  {
   "cell_type": "code",
   "execution_count": 123,
   "id": "3db963ac-684c-43c9-92dd-6f11a6c156e4",
   "metadata": {},
   "outputs": [
    {
     "data": {
      "text/html": [
       "<div>\n",
       "<style scoped>\n",
       "    .dataframe tbody tr th:only-of-type {\n",
       "        vertical-align: middle;\n",
       "    }\n",
       "\n",
       "    .dataframe tbody tr th {\n",
       "        vertical-align: top;\n",
       "    }\n",
       "\n",
       "    .dataframe thead th {\n",
       "        text-align: right;\n",
       "    }\n",
       "</style>\n",
       "<table border=\"1\" class=\"dataframe\">\n",
       "  <thead>\n",
       "    <tr style=\"text-align: right;\">\n",
       "      <th></th>\n",
       "      <th>customer_id</th>\n",
       "      <th>total_amount</th>\n",
       "      <th>txn_count</th>\n",
       "      <th>avg_amount</th>\n",
       "    </tr>\n",
       "  </thead>\n",
       "  <tbody>\n",
       "    <tr>\n",
       "      <th>0</th>\n",
       "      <td>C1</td>\n",
       "      <td>12000</td>\n",
       "      <td>2</td>\n",
       "      <td>6000.0</td>\n",
       "    </tr>\n",
       "    <tr>\n",
       "      <th>1</th>\n",
       "      <td>C2</td>\n",
       "      <td>20000</td>\n",
       "      <td>2</td>\n",
       "      <td>10000.0</td>\n",
       "    </tr>\n",
       "    <tr>\n",
       "      <th>2</th>\n",
       "      <td>C3</td>\n",
       "      <td>6000</td>\n",
       "      <td>3</td>\n",
       "      <td>2000.0</td>\n",
       "    </tr>\n",
       "  </tbody>\n",
       "</table>\n",
       "</div>"
      ],
      "text/plain": [
       "  customer_id  total_amount  txn_count  avg_amount\n",
       "0          C1         12000          2      6000.0\n",
       "1          C2         20000          2     10000.0\n",
       "2          C3          6000          3      2000.0"
      ]
     },
     "execution_count": 123,
     "metadata": {},
     "output_type": "execute_result"
    }
   ],
   "source": [
    "summary = df.groupby(\"customer_id\").agg(\n",
    "    total_amount=(\"amount\",\"sum\"),\n",
    "    txn_count=(\"amount\",\"count\"),\n",
    "    avg_amount=(\"amount\",\"mean\")\n",
    ").reset_index()\n",
    "summary\n"
   ]
  },
  {
   "cell_type": "markdown",
   "id": "c8e89b6f-fabb-4d6d-939b-aa22ac3faf84",
   "metadata": {},
   "source": [
    "### Exercise 13: Pivot Table – Transaction Count by Country and Month\n",
    "\n",
    "Instruction:\n",
    "\n",
    "Create a pivot table showing number of transactions per country per month.\n",
    "\n",
    "Sample Data:"
   ]
  },
  {
   "cell_type": "code",
   "execution_count": 133,
   "id": "50cb5dc4-263b-4620-a357-0386d2d27061",
   "metadata": {},
   "outputs": [],
   "source": [
    "df = pd.DataFrame({\n",
    "    \"transaction_id\": [1,2,3,4,5,6],\n",
    "    \"country\": [\"US\",\"US\",\"UK\",\"UK\",\"CN\",\"CN\"],\n",
    "    \"date\": pd.to_datetime([\"2024-08-01\",\"2024-08-15\",\"2024-08-03\",\"2024-09-01\",\"2024-08-07\",\"2024-09-02\"])\n",
    "})\n"
   ]
  },
  {
   "cell_type": "code",
   "execution_count": 134,
   "id": "c2b6a5a3-1e84-48fb-9361-60ea47c19fe3",
   "metadata": {},
   "outputs": [
    {
     "data": {
      "text/html": [
       "<div>\n",
       "<style scoped>\n",
       "    .dataframe tbody tr th:only-of-type {\n",
       "        vertical-align: middle;\n",
       "    }\n",
       "\n",
       "    .dataframe tbody tr th {\n",
       "        vertical-align: top;\n",
       "    }\n",
       "\n",
       "    .dataframe thead th {\n",
       "        text-align: right;\n",
       "    }\n",
       "</style>\n",
       "<table border=\"1\" class=\"dataframe\">\n",
       "  <thead>\n",
       "    <tr style=\"text-align: right;\">\n",
       "      <th></th>\n",
       "      <th>transaction_id</th>\n",
       "      <th>country</th>\n",
       "      <th>date</th>\n",
       "    </tr>\n",
       "  </thead>\n",
       "  <tbody>\n",
       "    <tr>\n",
       "      <th>0</th>\n",
       "      <td>1</td>\n",
       "      <td>US</td>\n",
       "      <td>2024-08-01</td>\n",
       "    </tr>\n",
       "    <tr>\n",
       "      <th>1</th>\n",
       "      <td>2</td>\n",
       "      <td>US</td>\n",
       "      <td>2024-08-15</td>\n",
       "    </tr>\n",
       "    <tr>\n",
       "      <th>2</th>\n",
       "      <td>3</td>\n",
       "      <td>UK</td>\n",
       "      <td>2024-08-03</td>\n",
       "    </tr>\n",
       "    <tr>\n",
       "      <th>3</th>\n",
       "      <td>4</td>\n",
       "      <td>UK</td>\n",
       "      <td>2024-09-01</td>\n",
       "    </tr>\n",
       "    <tr>\n",
       "      <th>4</th>\n",
       "      <td>5</td>\n",
       "      <td>CN</td>\n",
       "      <td>2024-08-07</td>\n",
       "    </tr>\n",
       "    <tr>\n",
       "      <th>5</th>\n",
       "      <td>6</td>\n",
       "      <td>CN</td>\n",
       "      <td>2024-09-02</td>\n",
       "    </tr>\n",
       "  </tbody>\n",
       "</table>\n",
       "</div>"
      ],
      "text/plain": [
       "   transaction_id country       date\n",
       "0               1      US 2024-08-01\n",
       "1               2      US 2024-08-15\n",
       "2               3      UK 2024-08-03\n",
       "3               4      UK 2024-09-01\n",
       "4               5      CN 2024-08-07\n",
       "5               6      CN 2024-09-02"
      ]
     },
     "execution_count": 134,
     "metadata": {},
     "output_type": "execute_result"
    }
   ],
   "source": [
    "df"
   ]
  },
  {
   "cell_type": "code",
   "execution_count": 136,
   "id": "150971eb-3007-46e0-be3b-158bfde4184f",
   "metadata": {},
   "outputs": [
    {
     "ename": "KeyError",
     "evalue": "\"None of [Index([8, 8, 8, 9, 8, 9], dtype='int32')] are in the [columns]\"",
     "output_type": "error",
     "traceback": [
      "\u001b[1;31m---------------------------------------------------------------------------\u001b[0m",
      "\u001b[1;31mKeyError\u001b[0m                                  Traceback (most recent call last)",
      "Cell \u001b[1;32mIn[136], line 1\u001b[0m\n\u001b[1;32m----> 1\u001b[0m df[\u001b[38;5;124m'\u001b[39m\u001b[38;5;124mmonth\u001b[39m\u001b[38;5;124m'\u001b[39m] \u001b[38;5;241m=\u001b[39m df[df[\u001b[38;5;124m'\u001b[39m\u001b[38;5;124mdate\u001b[39m\u001b[38;5;124m'\u001b[39m]\u001b[38;5;241m.\u001b[39mdt\u001b[38;5;241m.\u001b[39mmonth]\n\u001b[0;32m      2\u001b[0m df\n",
      "File \u001b[1;32m~\\anaconda3\\Lib\\site-packages\\pandas\\core\\frame.py:4108\u001b[0m, in \u001b[0;36mDataFrame.__getitem__\u001b[1;34m(self, key)\u001b[0m\n\u001b[0;32m   4106\u001b[0m     \u001b[38;5;28;01mif\u001b[39;00m is_iterator(key):\n\u001b[0;32m   4107\u001b[0m         key \u001b[38;5;241m=\u001b[39m \u001b[38;5;28mlist\u001b[39m(key)\n\u001b[1;32m-> 4108\u001b[0m     indexer \u001b[38;5;241m=\u001b[39m \u001b[38;5;28mself\u001b[39m\u001b[38;5;241m.\u001b[39mcolumns\u001b[38;5;241m.\u001b[39m_get_indexer_strict(key, \u001b[38;5;124m\"\u001b[39m\u001b[38;5;124mcolumns\u001b[39m\u001b[38;5;124m\"\u001b[39m)[\u001b[38;5;241m1\u001b[39m]\n\u001b[0;32m   4110\u001b[0m \u001b[38;5;66;03m# take() does not accept boolean indexers\u001b[39;00m\n\u001b[0;32m   4111\u001b[0m \u001b[38;5;28;01mif\u001b[39;00m \u001b[38;5;28mgetattr\u001b[39m(indexer, \u001b[38;5;124m\"\u001b[39m\u001b[38;5;124mdtype\u001b[39m\u001b[38;5;124m\"\u001b[39m, \u001b[38;5;28;01mNone\u001b[39;00m) \u001b[38;5;241m==\u001b[39m \u001b[38;5;28mbool\u001b[39m:\n",
      "File \u001b[1;32m~\\anaconda3\\Lib\\site-packages\\pandas\\core\\indexes\\base.py:6200\u001b[0m, in \u001b[0;36mIndex._get_indexer_strict\u001b[1;34m(self, key, axis_name)\u001b[0m\n\u001b[0;32m   6197\u001b[0m \u001b[38;5;28;01melse\u001b[39;00m:\n\u001b[0;32m   6198\u001b[0m     keyarr, indexer, new_indexer \u001b[38;5;241m=\u001b[39m \u001b[38;5;28mself\u001b[39m\u001b[38;5;241m.\u001b[39m_reindex_non_unique(keyarr)\n\u001b[1;32m-> 6200\u001b[0m \u001b[38;5;28mself\u001b[39m\u001b[38;5;241m.\u001b[39m_raise_if_missing(keyarr, indexer, axis_name)\n\u001b[0;32m   6202\u001b[0m keyarr \u001b[38;5;241m=\u001b[39m \u001b[38;5;28mself\u001b[39m\u001b[38;5;241m.\u001b[39mtake(indexer)\n\u001b[0;32m   6203\u001b[0m \u001b[38;5;28;01mif\u001b[39;00m \u001b[38;5;28misinstance\u001b[39m(key, Index):\n\u001b[0;32m   6204\u001b[0m     \u001b[38;5;66;03m# GH 42790 - Preserve name from an Index\u001b[39;00m\n",
      "File \u001b[1;32m~\\anaconda3\\Lib\\site-packages\\pandas\\core\\indexes\\base.py:6249\u001b[0m, in \u001b[0;36mIndex._raise_if_missing\u001b[1;34m(self, key, indexer, axis_name)\u001b[0m\n\u001b[0;32m   6247\u001b[0m \u001b[38;5;28;01mif\u001b[39;00m nmissing:\n\u001b[0;32m   6248\u001b[0m     \u001b[38;5;28;01mif\u001b[39;00m nmissing \u001b[38;5;241m==\u001b[39m \u001b[38;5;28mlen\u001b[39m(indexer):\n\u001b[1;32m-> 6249\u001b[0m         \u001b[38;5;28;01mraise\u001b[39;00m \u001b[38;5;167;01mKeyError\u001b[39;00m(\u001b[38;5;124mf\u001b[39m\u001b[38;5;124m\"\u001b[39m\u001b[38;5;124mNone of [\u001b[39m\u001b[38;5;132;01m{\u001b[39;00mkey\u001b[38;5;132;01m}\u001b[39;00m\u001b[38;5;124m] are in the [\u001b[39m\u001b[38;5;132;01m{\u001b[39;00maxis_name\u001b[38;5;132;01m}\u001b[39;00m\u001b[38;5;124m]\u001b[39m\u001b[38;5;124m\"\u001b[39m)\n\u001b[0;32m   6251\u001b[0m     not_found \u001b[38;5;241m=\u001b[39m \u001b[38;5;28mlist\u001b[39m(ensure_index(key)[missing_mask\u001b[38;5;241m.\u001b[39mnonzero()[\u001b[38;5;241m0\u001b[39m]]\u001b[38;5;241m.\u001b[39munique())\n\u001b[0;32m   6252\u001b[0m     \u001b[38;5;28;01mraise\u001b[39;00m \u001b[38;5;167;01mKeyError\u001b[39;00m(\u001b[38;5;124mf\u001b[39m\u001b[38;5;124m\"\u001b[39m\u001b[38;5;132;01m{\u001b[39;00mnot_found\u001b[38;5;132;01m}\u001b[39;00m\u001b[38;5;124m not in index\u001b[39m\u001b[38;5;124m\"\u001b[39m)\n",
      "\u001b[1;31mKeyError\u001b[0m: \"None of [Index([8, 8, 8, 9, 8, 9], dtype='int32')] are in the [columns]\""
     ]
    }
   ],
   "source": [
    "df['month'] = df[df['date'].dt.month]\n",
    "df.pivot_table(index='country', columns='date', values='amount', aggfunc='sum')"
   ]
  },
  {
   "cell_type": "markdown",
   "id": "f9ec07e2-6601-4090-a8e9-6c1ec587bfe7",
   "metadata": {},
   "source": [
    "Exercise 13 solution"
   ]
  },
  {
   "cell_type": "code",
   "execution_count": 140,
   "id": "a485eb28-cbec-4985-aed1-8e389c79bbf0",
   "metadata": {},
   "outputs": [
    {
     "data": {
      "text/html": [
       "<div>\n",
       "<style scoped>\n",
       "    .dataframe tbody tr th:only-of-type {\n",
       "        vertical-align: middle;\n",
       "    }\n",
       "\n",
       "    .dataframe tbody tr th {\n",
       "        vertical-align: top;\n",
       "    }\n",
       "\n",
       "    .dataframe thead th {\n",
       "        text-align: right;\n",
       "    }\n",
       "</style>\n",
       "<table border=\"1\" class=\"dataframe\">\n",
       "  <thead>\n",
       "    <tr style=\"text-align: right;\">\n",
       "      <th>month</th>\n",
       "      <th>2024-08</th>\n",
       "      <th>2024-09</th>\n",
       "    </tr>\n",
       "    <tr>\n",
       "      <th>country</th>\n",
       "      <th></th>\n",
       "      <th></th>\n",
       "    </tr>\n",
       "  </thead>\n",
       "  <tbody>\n",
       "    <tr>\n",
       "      <th>CN</th>\n",
       "      <td>1</td>\n",
       "      <td>1</td>\n",
       "    </tr>\n",
       "    <tr>\n",
       "      <th>UK</th>\n",
       "      <td>1</td>\n",
       "      <td>1</td>\n",
       "    </tr>\n",
       "    <tr>\n",
       "      <th>US</th>\n",
       "      <td>2</td>\n",
       "      <td>0</td>\n",
       "    </tr>\n",
       "  </tbody>\n",
       "</table>\n",
       "</div>"
      ],
      "text/plain": [
       "month    2024-08  2024-09\n",
       "country                  \n",
       "CN             1        1\n",
       "UK             1        1\n",
       "US             2        0"
      ]
     },
     "execution_count": 140,
     "metadata": {},
     "output_type": "execute_result"
    }
   ],
   "source": [
    "df[\"month\"] = df[\"date\"].dt.to_period(\"M\")\n",
    "pivot = pd.pivot_table(df, index=\"country\", columns=\"month\", values=\"transaction_id\", aggfunc=\"count\", fill_value=0)\n",
    "pivot\n"
   ]
  },
  {
   "cell_type": "markdown",
   "id": "1087b51a-d261-44cb-8f46-27adf8a41a9d",
   "metadata": {},
   "source": [
    "### Exercise 14: Crosstab – High-Risk Transactions by Type\n",
    "\n",
    "Instruction:\n",
    "\n",
    "Generate a crosstab of transaction type vs high-risk flag.\n",
    "\n",
    "Sample Data:"
   ]
  },
  {
   "cell_type": "code",
   "execution_count": 141,
   "id": "20c22d31-8028-4231-b4ac-c6f6dcfffc69",
   "metadata": {},
   "outputs": [],
   "source": [
    "df = pd.DataFrame({\n",
    "    \"transaction_type\": [\"Wire\",\"Wire\",\"ACH\",\"ACH\",\"Wire\",\"ACH\"],\n",
    "    \"high_risk\": [1,0,1,0,1,0]\n",
    "})\n"
   ]
  },
  {
   "cell_type": "code",
   "execution_count": 142,
   "id": "042e1c81-85c0-4d33-98ec-818b6200591f",
   "metadata": {},
   "outputs": [
    {
     "data": {
      "text/html": [
       "<div>\n",
       "<style scoped>\n",
       "    .dataframe tbody tr th:only-of-type {\n",
       "        vertical-align: middle;\n",
       "    }\n",
       "\n",
       "    .dataframe tbody tr th {\n",
       "        vertical-align: top;\n",
       "    }\n",
       "\n",
       "    .dataframe thead th {\n",
       "        text-align: right;\n",
       "    }\n",
       "</style>\n",
       "<table border=\"1\" class=\"dataframe\">\n",
       "  <thead>\n",
       "    <tr style=\"text-align: right;\">\n",
       "      <th></th>\n",
       "      <th>transaction_type</th>\n",
       "      <th>high_risk</th>\n",
       "    </tr>\n",
       "  </thead>\n",
       "  <tbody>\n",
       "    <tr>\n",
       "      <th>0</th>\n",
       "      <td>Wire</td>\n",
       "      <td>1</td>\n",
       "    </tr>\n",
       "    <tr>\n",
       "      <th>1</th>\n",
       "      <td>Wire</td>\n",
       "      <td>0</td>\n",
       "    </tr>\n",
       "    <tr>\n",
       "      <th>2</th>\n",
       "      <td>ACH</td>\n",
       "      <td>1</td>\n",
       "    </tr>\n",
       "    <tr>\n",
       "      <th>3</th>\n",
       "      <td>ACH</td>\n",
       "      <td>0</td>\n",
       "    </tr>\n",
       "    <tr>\n",
       "      <th>4</th>\n",
       "      <td>Wire</td>\n",
       "      <td>1</td>\n",
       "    </tr>\n",
       "    <tr>\n",
       "      <th>5</th>\n",
       "      <td>ACH</td>\n",
       "      <td>0</td>\n",
       "    </tr>\n",
       "  </tbody>\n",
       "</table>\n",
       "</div>"
      ],
      "text/plain": [
       "  transaction_type  high_risk\n",
       "0             Wire          1\n",
       "1             Wire          0\n",
       "2              ACH          1\n",
       "3              ACH          0\n",
       "4             Wire          1\n",
       "5              ACH          0"
      ]
     },
     "execution_count": 142,
     "metadata": {},
     "output_type": "execute_result"
    }
   ],
   "source": [
    "df"
   ]
  },
  {
   "cell_type": "code",
   "execution_count": 144,
   "id": "b8249179-816a-42f3-b58b-5c839b96d8da",
   "metadata": {},
   "outputs": [
    {
     "data": {
      "text/html": [
       "<div>\n",
       "<style scoped>\n",
       "    .dataframe tbody tr th:only-of-type {\n",
       "        vertical-align: middle;\n",
       "    }\n",
       "\n",
       "    .dataframe tbody tr th {\n",
       "        vertical-align: top;\n",
       "    }\n",
       "\n",
       "    .dataframe thead th {\n",
       "        text-align: right;\n",
       "    }\n",
       "</style>\n",
       "<table border=\"1\" class=\"dataframe\">\n",
       "  <thead>\n",
       "    <tr style=\"text-align: right;\">\n",
       "      <th>high_risk</th>\n",
       "      <th>0</th>\n",
       "      <th>1</th>\n",
       "      <th>All</th>\n",
       "    </tr>\n",
       "    <tr>\n",
       "      <th>transaction_type</th>\n",
       "      <th></th>\n",
       "      <th></th>\n",
       "      <th></th>\n",
       "    </tr>\n",
       "  </thead>\n",
       "  <tbody>\n",
       "    <tr>\n",
       "      <th>ACH</th>\n",
       "      <td>2</td>\n",
       "      <td>1</td>\n",
       "      <td>3</td>\n",
       "    </tr>\n",
       "    <tr>\n",
       "      <th>Wire</th>\n",
       "      <td>1</td>\n",
       "      <td>2</td>\n",
       "      <td>3</td>\n",
       "    </tr>\n",
       "    <tr>\n",
       "      <th>All</th>\n",
       "      <td>3</td>\n",
       "      <td>3</td>\n",
       "      <td>6</td>\n",
       "    </tr>\n",
       "  </tbody>\n",
       "</table>\n",
       "</div>"
      ],
      "text/plain": [
       "high_risk         0  1  All\n",
       "transaction_type           \n",
       "ACH               2  1    3\n",
       "Wire              1  2    3\n",
       "All               3  3    6"
      ]
     },
     "execution_count": 144,
     "metadata": {},
     "output_type": "execute_result"
    }
   ],
   "source": [
    "pd.crosstab(df['transaction_type'], df['high_risk'], margins=True)"
   ]
  },
  {
   "cell_type": "markdown",
   "id": "b94ac5eb-53d7-4b10-8151-c99b68bcaa82",
   "metadata": {},
   "source": [
    "Exercise 14 solution"
   ]
  },
  {
   "cell_type": "code",
   "execution_count": 145,
   "id": "523de613-8793-41ef-bdf0-b7dc8a618937",
   "metadata": {},
   "outputs": [
    {
     "data": {
      "text/html": [
       "<div>\n",
       "<style scoped>\n",
       "    .dataframe tbody tr th:only-of-type {\n",
       "        vertical-align: middle;\n",
       "    }\n",
       "\n",
       "    .dataframe tbody tr th {\n",
       "        vertical-align: top;\n",
       "    }\n",
       "\n",
       "    .dataframe thead th {\n",
       "        text-align: right;\n",
       "    }\n",
       "</style>\n",
       "<table border=\"1\" class=\"dataframe\">\n",
       "  <thead>\n",
       "    <tr style=\"text-align: right;\">\n",
       "      <th>high_risk</th>\n",
       "      <th>0</th>\n",
       "      <th>1</th>\n",
       "      <th>All</th>\n",
       "    </tr>\n",
       "    <tr>\n",
       "      <th>transaction_type</th>\n",
       "      <th></th>\n",
       "      <th></th>\n",
       "      <th></th>\n",
       "    </tr>\n",
       "  </thead>\n",
       "  <tbody>\n",
       "    <tr>\n",
       "      <th>ACH</th>\n",
       "      <td>2</td>\n",
       "      <td>1</td>\n",
       "      <td>3</td>\n",
       "    </tr>\n",
       "    <tr>\n",
       "      <th>Wire</th>\n",
       "      <td>1</td>\n",
       "      <td>2</td>\n",
       "      <td>3</td>\n",
       "    </tr>\n",
       "    <tr>\n",
       "      <th>All</th>\n",
       "      <td>3</td>\n",
       "      <td>3</td>\n",
       "      <td>6</td>\n",
       "    </tr>\n",
       "  </tbody>\n",
       "</table>\n",
       "</div>"
      ],
      "text/plain": [
       "high_risk         0  1  All\n",
       "transaction_type           \n",
       "ACH               2  1    3\n",
       "Wire              1  2    3\n",
       "All               3  3    6"
      ]
     },
     "execution_count": 145,
     "metadata": {},
     "output_type": "execute_result"
    }
   ],
   "source": [
    "ct = pd.crosstab(df[\"transaction_type\"], df[\"high_risk\"], margins=True)\n",
    "ct\n"
   ]
  },
  {
   "cell_type": "markdown",
   "id": "5ca34e1a-bbed-401a-9d53-19e3ccc133be",
   "metadata": {},
   "source": [
    "### Exercise 15: Merge/Join – Combine Customer and Transaction Data\n",
    "\n",
    "Instruction:\n",
    "\n",
    "Merge customer master and transaction dataset to include customer segment in transaction data.\n",
    "\n",
    "Sample Data:"
   ]
  },
  {
   "cell_type": "code",
   "execution_count": 146,
   "id": "849bf08a-71ba-48b1-be29-55c0363329cf",
   "metadata": {},
   "outputs": [],
   "source": [
    "customers = pd.DataFrame({\n",
    "    \"customer_id\": [\"C1\",\"C2\",\"C3\"],\n",
    "    \"segment\": [\"Retail\",\"Corporate\",\"Retail\"]\n",
    "})\n",
    "\n",
    "transactions = pd.DataFrame({\n",
    "    \"transaction_id\": [101,102,103,104],\n",
    "    \"customer_id\": [\"C1\",\"C2\",\"C1\",\"C3\"],\n",
    "    \"amount\": [5000, 12000, 7000, 2000]\n",
    "})\n"
   ]
  },
  {
   "cell_type": "code",
   "execution_count": 147,
   "id": "642cc0c7-1aed-4194-b3fd-be084ebfa574",
   "metadata": {},
   "outputs": [
    {
     "data": {
      "text/html": [
       "<div>\n",
       "<style scoped>\n",
       "    .dataframe tbody tr th:only-of-type {\n",
       "        vertical-align: middle;\n",
       "    }\n",
       "\n",
       "    .dataframe tbody tr th {\n",
       "        vertical-align: top;\n",
       "    }\n",
       "\n",
       "    .dataframe thead th {\n",
       "        text-align: right;\n",
       "    }\n",
       "</style>\n",
       "<table border=\"1\" class=\"dataframe\">\n",
       "  <thead>\n",
       "    <tr style=\"text-align: right;\">\n",
       "      <th></th>\n",
       "      <th>customer_id</th>\n",
       "      <th>segment</th>\n",
       "    </tr>\n",
       "  </thead>\n",
       "  <tbody>\n",
       "    <tr>\n",
       "      <th>0</th>\n",
       "      <td>C1</td>\n",
       "      <td>Retail</td>\n",
       "    </tr>\n",
       "    <tr>\n",
       "      <th>1</th>\n",
       "      <td>C2</td>\n",
       "      <td>Corporate</td>\n",
       "    </tr>\n",
       "    <tr>\n",
       "      <th>2</th>\n",
       "      <td>C3</td>\n",
       "      <td>Retail</td>\n",
       "    </tr>\n",
       "  </tbody>\n",
       "</table>\n",
       "</div>"
      ],
      "text/plain": [
       "  customer_id    segment\n",
       "0          C1     Retail\n",
       "1          C2  Corporate\n",
       "2          C3     Retail"
      ]
     },
     "execution_count": 147,
     "metadata": {},
     "output_type": "execute_result"
    }
   ],
   "source": [
    "customers"
   ]
  },
  {
   "cell_type": "code",
   "execution_count": 148,
   "id": "fcf517c4-73c6-4c0f-9bff-3af50d8d5fcf",
   "metadata": {},
   "outputs": [
    {
     "data": {
      "text/html": [
       "<div>\n",
       "<style scoped>\n",
       "    .dataframe tbody tr th:only-of-type {\n",
       "        vertical-align: middle;\n",
       "    }\n",
       "\n",
       "    .dataframe tbody tr th {\n",
       "        vertical-align: top;\n",
       "    }\n",
       "\n",
       "    .dataframe thead th {\n",
       "        text-align: right;\n",
       "    }\n",
       "</style>\n",
       "<table border=\"1\" class=\"dataframe\">\n",
       "  <thead>\n",
       "    <tr style=\"text-align: right;\">\n",
       "      <th></th>\n",
       "      <th>transaction_id</th>\n",
       "      <th>customer_id</th>\n",
       "      <th>amount</th>\n",
       "    </tr>\n",
       "  </thead>\n",
       "  <tbody>\n",
       "    <tr>\n",
       "      <th>0</th>\n",
       "      <td>101</td>\n",
       "      <td>C1</td>\n",
       "      <td>5000</td>\n",
       "    </tr>\n",
       "    <tr>\n",
       "      <th>1</th>\n",
       "      <td>102</td>\n",
       "      <td>C2</td>\n",
       "      <td>12000</td>\n",
       "    </tr>\n",
       "    <tr>\n",
       "      <th>2</th>\n",
       "      <td>103</td>\n",
       "      <td>C1</td>\n",
       "      <td>7000</td>\n",
       "    </tr>\n",
       "    <tr>\n",
       "      <th>3</th>\n",
       "      <td>104</td>\n",
       "      <td>C3</td>\n",
       "      <td>2000</td>\n",
       "    </tr>\n",
       "  </tbody>\n",
       "</table>\n",
       "</div>"
      ],
      "text/plain": [
       "   transaction_id customer_id  amount\n",
       "0             101          C1    5000\n",
       "1             102          C2   12000\n",
       "2             103          C1    7000\n",
       "3             104          C3    2000"
      ]
     },
     "execution_count": 148,
     "metadata": {},
     "output_type": "execute_result"
    }
   ],
   "source": [
    "transactions"
   ]
  },
  {
   "cell_type": "code",
   "execution_count": 151,
   "id": "fc5b1f2e-edf3-4a26-a471-687d3b257559",
   "metadata": {
    "scrolled": true
   },
   "outputs": [
    {
     "data": {
      "text/html": [
       "<div>\n",
       "<style scoped>\n",
       "    .dataframe tbody tr th:only-of-type {\n",
       "        vertical-align: middle;\n",
       "    }\n",
       "\n",
       "    .dataframe tbody tr th {\n",
       "        vertical-align: top;\n",
       "    }\n",
       "\n",
       "    .dataframe thead th {\n",
       "        text-align: right;\n",
       "    }\n",
       "</style>\n",
       "<table border=\"1\" class=\"dataframe\">\n",
       "  <thead>\n",
       "    <tr style=\"text-align: right;\">\n",
       "      <th></th>\n",
       "      <th>customer_id</th>\n",
       "      <th>segment</th>\n",
       "      <th>transaction_id</th>\n",
       "      <th>amount</th>\n",
       "    </tr>\n",
       "  </thead>\n",
       "  <tbody>\n",
       "    <tr>\n",
       "      <th>0</th>\n",
       "      <td>C1</td>\n",
       "      <td>Retail</td>\n",
       "      <td>101</td>\n",
       "      <td>5000</td>\n",
       "    </tr>\n",
       "    <tr>\n",
       "      <th>1</th>\n",
       "      <td>C1</td>\n",
       "      <td>Retail</td>\n",
       "      <td>103</td>\n",
       "      <td>7000</td>\n",
       "    </tr>\n",
       "    <tr>\n",
       "      <th>2</th>\n",
       "      <td>C2</td>\n",
       "      <td>Corporate</td>\n",
       "      <td>102</td>\n",
       "      <td>12000</td>\n",
       "    </tr>\n",
       "    <tr>\n",
       "      <th>3</th>\n",
       "      <td>C3</td>\n",
       "      <td>Retail</td>\n",
       "      <td>104</td>\n",
       "      <td>2000</td>\n",
       "    </tr>\n",
       "  </tbody>\n",
       "</table>\n",
       "</div>"
      ],
      "text/plain": [
       "  customer_id    segment  transaction_id  amount\n",
       "0          C1     Retail             101    5000\n",
       "1          C1     Retail             103    7000\n",
       "2          C2  Corporate             102   12000\n",
       "3          C3     Retail             104    2000"
      ]
     },
     "execution_count": 151,
     "metadata": {},
     "output_type": "execute_result"
    }
   ],
   "source": [
    "pd.merge(customers, transactions, on='customer_id', how='left')"
   ]
  },
  {
   "cell_type": "markdown",
   "id": "3aa3f48c-4534-4a6b-8d9c-8fc1ad02cbf9",
   "metadata": {},
   "source": [
    "Exercise 15 solution"
   ]
  },
  {
   "cell_type": "code",
   "execution_count": 152,
   "id": "bb912d80-e212-4642-8307-c8f2709f53da",
   "metadata": {},
   "outputs": [
    {
     "data": {
      "text/html": [
       "<div>\n",
       "<style scoped>\n",
       "    .dataframe tbody tr th:only-of-type {\n",
       "        vertical-align: middle;\n",
       "    }\n",
       "\n",
       "    .dataframe tbody tr th {\n",
       "        vertical-align: top;\n",
       "    }\n",
       "\n",
       "    .dataframe thead th {\n",
       "        text-align: right;\n",
       "    }\n",
       "</style>\n",
       "<table border=\"1\" class=\"dataframe\">\n",
       "  <thead>\n",
       "    <tr style=\"text-align: right;\">\n",
       "      <th></th>\n",
       "      <th>transaction_id</th>\n",
       "      <th>customer_id</th>\n",
       "      <th>amount</th>\n",
       "      <th>segment</th>\n",
       "    </tr>\n",
       "  </thead>\n",
       "  <tbody>\n",
       "    <tr>\n",
       "      <th>0</th>\n",
       "      <td>101</td>\n",
       "      <td>C1</td>\n",
       "      <td>5000</td>\n",
       "      <td>Retail</td>\n",
       "    </tr>\n",
       "    <tr>\n",
       "      <th>1</th>\n",
       "      <td>102</td>\n",
       "      <td>C2</td>\n",
       "      <td>12000</td>\n",
       "      <td>Corporate</td>\n",
       "    </tr>\n",
       "    <tr>\n",
       "      <th>2</th>\n",
       "      <td>103</td>\n",
       "      <td>C1</td>\n",
       "      <td>7000</td>\n",
       "      <td>Retail</td>\n",
       "    </tr>\n",
       "    <tr>\n",
       "      <th>3</th>\n",
       "      <td>104</td>\n",
       "      <td>C3</td>\n",
       "      <td>2000</td>\n",
       "      <td>Retail</td>\n",
       "    </tr>\n",
       "  </tbody>\n",
       "</table>\n",
       "</div>"
      ],
      "text/plain": [
       "   transaction_id customer_id  amount    segment\n",
       "0             101          C1    5000     Retail\n",
       "1             102          C2   12000  Corporate\n",
       "2             103          C1    7000     Retail\n",
       "3             104          C3    2000     Retail"
      ]
     },
     "execution_count": 152,
     "metadata": {},
     "output_type": "execute_result"
    }
   ],
   "source": [
    "merged = transactions.merge(customers, on=\"customer_id\", how=\"left\")\n",
    "merged\n"
   ]
  },
  {
   "cell_type": "markdown",
   "id": "c63c5699-bc0a-4e2d-b86d-e542e1f5f30b",
   "metadata": {},
   "source": [
    "### Exercise 16: Concatenation – Combine Multiple Transaction Files\n",
    "\n",
    "Instruction:\n",
    "\n",
    "Concatenate two monthly transaction datasets into a single DataFrame.\n",
    "\n",
    "Sample Data:"
   ]
  },
  {
   "cell_type": "code",
   "execution_count": 153,
   "id": "909b5ac1-4add-4d78-87d7-5f489cf3bb3e",
   "metadata": {},
   "outputs": [],
   "source": [
    "df_aug = pd.DataFrame({\"transaction_id\":[1,2],\"amount\":[1000,2000]})\n",
    "df_sep = pd.DataFrame({\"transaction_id\":[3,4],\"amount\":[1500,2500]})\n"
   ]
  },
  {
   "cell_type": "code",
   "execution_count": 154,
   "id": "dbadcf99-ea87-4690-9570-acfa0eb768ec",
   "metadata": {},
   "outputs": [
    {
     "data": {
      "text/html": [
       "<div>\n",
       "<style scoped>\n",
       "    .dataframe tbody tr th:only-of-type {\n",
       "        vertical-align: middle;\n",
       "    }\n",
       "\n",
       "    .dataframe tbody tr th {\n",
       "        vertical-align: top;\n",
       "    }\n",
       "\n",
       "    .dataframe thead th {\n",
       "        text-align: right;\n",
       "    }\n",
       "</style>\n",
       "<table border=\"1\" class=\"dataframe\">\n",
       "  <thead>\n",
       "    <tr style=\"text-align: right;\">\n",
       "      <th></th>\n",
       "      <th>transaction_id</th>\n",
       "      <th>amount</th>\n",
       "    </tr>\n",
       "  </thead>\n",
       "  <tbody>\n",
       "    <tr>\n",
       "      <th>0</th>\n",
       "      <td>1</td>\n",
       "      <td>1000</td>\n",
       "    </tr>\n",
       "    <tr>\n",
       "      <th>1</th>\n",
       "      <td>2</td>\n",
       "      <td>2000</td>\n",
       "    </tr>\n",
       "  </tbody>\n",
       "</table>\n",
       "</div>"
      ],
      "text/plain": [
       "   transaction_id  amount\n",
       "0               1    1000\n",
       "1               2    2000"
      ]
     },
     "execution_count": 154,
     "metadata": {},
     "output_type": "execute_result"
    }
   ],
   "source": [
    "df_aug"
   ]
  },
  {
   "cell_type": "code",
   "execution_count": 155,
   "id": "fe0930d2-93b3-4a86-8f89-3176615338bb",
   "metadata": {},
   "outputs": [
    {
     "data": {
      "text/html": [
       "<div>\n",
       "<style scoped>\n",
       "    .dataframe tbody tr th:only-of-type {\n",
       "        vertical-align: middle;\n",
       "    }\n",
       "\n",
       "    .dataframe tbody tr th {\n",
       "        vertical-align: top;\n",
       "    }\n",
       "\n",
       "    .dataframe thead th {\n",
       "        text-align: right;\n",
       "    }\n",
       "</style>\n",
       "<table border=\"1\" class=\"dataframe\">\n",
       "  <thead>\n",
       "    <tr style=\"text-align: right;\">\n",
       "      <th></th>\n",
       "      <th>transaction_id</th>\n",
       "      <th>amount</th>\n",
       "    </tr>\n",
       "  </thead>\n",
       "  <tbody>\n",
       "    <tr>\n",
       "      <th>0</th>\n",
       "      <td>3</td>\n",
       "      <td>1500</td>\n",
       "    </tr>\n",
       "    <tr>\n",
       "      <th>1</th>\n",
       "      <td>4</td>\n",
       "      <td>2500</td>\n",
       "    </tr>\n",
       "  </tbody>\n",
       "</table>\n",
       "</div>"
      ],
      "text/plain": [
       "   transaction_id  amount\n",
       "0               3    1500\n",
       "1               4    2500"
      ]
     },
     "execution_count": 155,
     "metadata": {},
     "output_type": "execute_result"
    }
   ],
   "source": [
    "df_sep"
   ]
  },
  {
   "cell_type": "code",
   "execution_count": 157,
   "id": "401ee3c0-aeba-4a56-9f1d-d712f21a8d17",
   "metadata": {},
   "outputs": [
    {
     "data": {
      "text/html": [
       "<div>\n",
       "<style scoped>\n",
       "    .dataframe tbody tr th:only-of-type {\n",
       "        vertical-align: middle;\n",
       "    }\n",
       "\n",
       "    .dataframe tbody tr th {\n",
       "        vertical-align: top;\n",
       "    }\n",
       "\n",
       "    .dataframe thead th {\n",
       "        text-align: right;\n",
       "    }\n",
       "</style>\n",
       "<table border=\"1\" class=\"dataframe\">\n",
       "  <thead>\n",
       "    <tr style=\"text-align: right;\">\n",
       "      <th></th>\n",
       "      <th>transaction_id</th>\n",
       "      <th>amount</th>\n",
       "    </tr>\n",
       "  </thead>\n",
       "  <tbody>\n",
       "    <tr>\n",
       "      <th>0</th>\n",
       "      <td>1</td>\n",
       "      <td>1000</td>\n",
       "    </tr>\n",
       "    <tr>\n",
       "      <th>1</th>\n",
       "      <td>2</td>\n",
       "      <td>2000</td>\n",
       "    </tr>\n",
       "    <tr>\n",
       "      <th>0</th>\n",
       "      <td>3</td>\n",
       "      <td>1500</td>\n",
       "    </tr>\n",
       "    <tr>\n",
       "      <th>1</th>\n",
       "      <td>4</td>\n",
       "      <td>2500</td>\n",
       "    </tr>\n",
       "  </tbody>\n",
       "</table>\n",
       "</div>"
      ],
      "text/plain": [
       "   transaction_id  amount\n",
       "0               1    1000\n",
       "1               2    2000\n",
       "0               3    1500\n",
       "1               4    2500"
      ]
     },
     "execution_count": 157,
     "metadata": {},
     "output_type": "execute_result"
    }
   ],
   "source": [
    "pd.concat([df_aug, df_sep])"
   ]
  },
  {
   "cell_type": "markdown",
   "id": "f65a1343-6213-48d6-a593-d57ace11c986",
   "metadata": {},
   "source": [
    "Exercise 16 solution"
   ]
  },
  {
   "cell_type": "code",
   "execution_count": 158,
   "id": "e78b7437-88fc-4da5-9588-a567cdb7b33d",
   "metadata": {},
   "outputs": [
    {
     "data": {
      "text/html": [
       "<div>\n",
       "<style scoped>\n",
       "    .dataframe tbody tr th:only-of-type {\n",
       "        vertical-align: middle;\n",
       "    }\n",
       "\n",
       "    .dataframe tbody tr th {\n",
       "        vertical-align: top;\n",
       "    }\n",
       "\n",
       "    .dataframe thead th {\n",
       "        text-align: right;\n",
       "    }\n",
       "</style>\n",
       "<table border=\"1\" class=\"dataframe\">\n",
       "  <thead>\n",
       "    <tr style=\"text-align: right;\">\n",
       "      <th></th>\n",
       "      <th>transaction_id</th>\n",
       "      <th>amount</th>\n",
       "    </tr>\n",
       "  </thead>\n",
       "  <tbody>\n",
       "    <tr>\n",
       "      <th>0</th>\n",
       "      <td>1</td>\n",
       "      <td>1000</td>\n",
       "    </tr>\n",
       "    <tr>\n",
       "      <th>1</th>\n",
       "      <td>2</td>\n",
       "      <td>2000</td>\n",
       "    </tr>\n",
       "    <tr>\n",
       "      <th>2</th>\n",
       "      <td>3</td>\n",
       "      <td>1500</td>\n",
       "    </tr>\n",
       "    <tr>\n",
       "      <th>3</th>\n",
       "      <td>4</td>\n",
       "      <td>2500</td>\n",
       "    </tr>\n",
       "  </tbody>\n",
       "</table>\n",
       "</div>"
      ],
      "text/plain": [
       "   transaction_id  amount\n",
       "0               1    1000\n",
       "1               2    2000\n",
       "2               3    1500\n",
       "3               4    2500"
      ]
     },
     "execution_count": 158,
     "metadata": {},
     "output_type": "execute_result"
    }
   ],
   "source": [
    "all_txn = pd.concat([df_aug, df_sep], ignore_index=True)\n",
    "all_txn\n"
   ]
  },
  {
   "cell_type": "markdown",
   "id": "52243f4c-5796-4135-82a7-ede1fc080008",
   "metadata": {},
   "source": [
    "### Exercise 17: Apply Lambda – Flag Large Transactions\n",
    "\n",
    "Instruction:\n",
    "\n",
    "Create a new column flag that is 1 if transaction > 10,000, else 0, using apply and lambda.\n",
    "\n",
    "Sample Data:"
   ]
  },
  {
   "cell_type": "code",
   "execution_count": 159,
   "id": "d1db7b29-97f7-4beb-8b78-c0cf159fdfd6",
   "metadata": {},
   "outputs": [],
   "source": [
    "df = pd.DataFrame({\"transaction_id\":[1,2,3],\"amount\":[5000,12000,7000]})\n"
   ]
  },
  {
   "cell_type": "code",
   "execution_count": 160,
   "id": "6783a705-2426-4ddd-8f2b-e5c3143c8bf7",
   "metadata": {},
   "outputs": [
    {
     "data": {
      "text/html": [
       "<div>\n",
       "<style scoped>\n",
       "    .dataframe tbody tr th:only-of-type {\n",
       "        vertical-align: middle;\n",
       "    }\n",
       "\n",
       "    .dataframe tbody tr th {\n",
       "        vertical-align: top;\n",
       "    }\n",
       "\n",
       "    .dataframe thead th {\n",
       "        text-align: right;\n",
       "    }\n",
       "</style>\n",
       "<table border=\"1\" class=\"dataframe\">\n",
       "  <thead>\n",
       "    <tr style=\"text-align: right;\">\n",
       "      <th></th>\n",
       "      <th>transaction_id</th>\n",
       "      <th>amount</th>\n",
       "    </tr>\n",
       "  </thead>\n",
       "  <tbody>\n",
       "    <tr>\n",
       "      <th>0</th>\n",
       "      <td>1</td>\n",
       "      <td>5000</td>\n",
       "    </tr>\n",
       "    <tr>\n",
       "      <th>1</th>\n",
       "      <td>2</td>\n",
       "      <td>12000</td>\n",
       "    </tr>\n",
       "    <tr>\n",
       "      <th>2</th>\n",
       "      <td>3</td>\n",
       "      <td>7000</td>\n",
       "    </tr>\n",
       "  </tbody>\n",
       "</table>\n",
       "</div>"
      ],
      "text/plain": [
       "   transaction_id  amount\n",
       "0               1    5000\n",
       "1               2   12000\n",
       "2               3    7000"
      ]
     },
     "execution_count": 160,
     "metadata": {},
     "output_type": "execute_result"
    }
   ],
   "source": [
    "df"
   ]
  },
  {
   "cell_type": "code",
   "execution_count": 161,
   "id": "d3a2cf2d-4173-4c4d-bba1-21c1fdf99fee",
   "metadata": {},
   "outputs": [
    {
     "data": {
      "text/html": [
       "<div>\n",
       "<style scoped>\n",
       "    .dataframe tbody tr th:only-of-type {\n",
       "        vertical-align: middle;\n",
       "    }\n",
       "\n",
       "    .dataframe tbody tr th {\n",
       "        vertical-align: top;\n",
       "    }\n",
       "\n",
       "    .dataframe thead th {\n",
       "        text-align: right;\n",
       "    }\n",
       "</style>\n",
       "<table border=\"1\" class=\"dataframe\">\n",
       "  <thead>\n",
       "    <tr style=\"text-align: right;\">\n",
       "      <th></th>\n",
       "      <th>transaction_id</th>\n",
       "      <th>amount</th>\n",
       "      <th>flag</th>\n",
       "    </tr>\n",
       "  </thead>\n",
       "  <tbody>\n",
       "    <tr>\n",
       "      <th>0</th>\n",
       "      <td>1</td>\n",
       "      <td>5000</td>\n",
       "      <td>0</td>\n",
       "    </tr>\n",
       "    <tr>\n",
       "      <th>1</th>\n",
       "      <td>2</td>\n",
       "      <td>12000</td>\n",
       "      <td>1</td>\n",
       "    </tr>\n",
       "    <tr>\n",
       "      <th>2</th>\n",
       "      <td>3</td>\n",
       "      <td>7000</td>\n",
       "      <td>0</td>\n",
       "    </tr>\n",
       "  </tbody>\n",
       "</table>\n",
       "</div>"
      ],
      "text/plain": [
       "   transaction_id  amount  flag\n",
       "0               1    5000     0\n",
       "1               2   12000     1\n",
       "2               3    7000     0"
      ]
     },
     "execution_count": 161,
     "metadata": {},
     "output_type": "execute_result"
    }
   ],
   "source": [
    "df['flag'] = df['amount'].apply(lambda x : 1 if x > 10_000 else 0)\n",
    "df"
   ]
  },
  {
   "cell_type": "markdown",
   "id": "de2cdb63-3980-44a8-b20c-12a6fbb4e6e2",
   "metadata": {},
   "source": [
    "Exercise 17 solution"
   ]
  },
  {
   "cell_type": "code",
   "execution_count": 162,
   "id": "143e5729-b1f1-485d-a426-3b5173f3d05b",
   "metadata": {},
   "outputs": [
    {
     "data": {
      "text/html": [
       "<div>\n",
       "<style scoped>\n",
       "    .dataframe tbody tr th:only-of-type {\n",
       "        vertical-align: middle;\n",
       "    }\n",
       "\n",
       "    .dataframe tbody tr th {\n",
       "        vertical-align: top;\n",
       "    }\n",
       "\n",
       "    .dataframe thead th {\n",
       "        text-align: right;\n",
       "    }\n",
       "</style>\n",
       "<table border=\"1\" class=\"dataframe\">\n",
       "  <thead>\n",
       "    <tr style=\"text-align: right;\">\n",
       "      <th></th>\n",
       "      <th>transaction_id</th>\n",
       "      <th>amount</th>\n",
       "      <th>flag</th>\n",
       "    </tr>\n",
       "  </thead>\n",
       "  <tbody>\n",
       "    <tr>\n",
       "      <th>0</th>\n",
       "      <td>1</td>\n",
       "      <td>5000</td>\n",
       "      <td>0</td>\n",
       "    </tr>\n",
       "    <tr>\n",
       "      <th>1</th>\n",
       "      <td>2</td>\n",
       "      <td>12000</td>\n",
       "      <td>1</td>\n",
       "    </tr>\n",
       "    <tr>\n",
       "      <th>2</th>\n",
       "      <td>3</td>\n",
       "      <td>7000</td>\n",
       "      <td>0</td>\n",
       "    </tr>\n",
       "  </tbody>\n",
       "</table>\n",
       "</div>"
      ],
      "text/plain": [
       "   transaction_id  amount  flag\n",
       "0               1    5000     0\n",
       "1               2   12000     1\n",
       "2               3    7000     0"
      ]
     },
     "execution_count": 162,
     "metadata": {},
     "output_type": "execute_result"
    }
   ],
   "source": [
    "df[\"flag\"] = df[\"amount\"].apply(lambda x: 1 if x > 10000 else 0)\n",
    "df\n"
   ]
  },
  {
   "cell_type": "code",
   "execution_count": null,
   "id": "1341c800-5222-49e5-8d20-3f6c67d3a496",
   "metadata": {},
   "outputs": [],
   "source": []
  }
 ],
 "metadata": {
  "kernelspec": {
   "display_name": "Python 3 (ipykernel)",
   "language": "python",
   "name": "python3"
  },
  "language_info": {
   "codemirror_mode": {
    "name": "ipython",
    "version": 3
   },
   "file_extension": ".py",
   "mimetype": "text/x-python",
   "name": "python",
   "nbconvert_exporter": "python",
   "pygments_lexer": "ipython3",
   "version": "3.12.3"
  }
 },
 "nbformat": 4,
 "nbformat_minor": 5
}
